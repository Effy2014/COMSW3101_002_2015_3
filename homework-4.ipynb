{
 "cells": [
  {
   "cell_type": "markdown",
   "metadata": {},
   "source": [
    "# Introduction to Python\n",
    "\n",
    "# Homework #4\n",
    "# Due Tuesday Oct 20 , 11:50pm \n"
   ]
  },
  {
   "cell_type": "markdown",
   "metadata": {},
   "source": [
    "# Problem 1 - Longest Ordered Substring(los)\n",
    "- argument: a string\n",
    "- returns: the longest substring such that \n",
    "the characters strictly increase(in the < sense) from \n",
    "left to right\n",
    "- if there is more than one longest string, return any one of them\n",
    "  "
   ]
  },
  {
   "cell_type": "code",
   "execution_count": 1,
   "metadata": {
    "collapsed": false
   },
   "outputs": [
    {
     "data": {
      "text/plain": [
       "[True, False, False]"
      ]
     },
     "execution_count": 1,
     "metadata": {},
     "output_type": "execute_result"
    }
   ],
   "source": [
    "# usual ordering\n",
    "['a' < 'b', 'b' < 'a', 'a' < 'a']"
   ]
  },
  {
   "cell_type": "code",
   "execution_count": 17,
   "metadata": {
    "collapsed": true
   },
   "outputs": [],
   "source": [
    "def los(string):\n",
    "    longest = string[0]\n",
    "    current = string[0]\n",
    "    for i in string[1:]:\n",
    "        if current[-1] < i:\n",
    "            current += i\n",
    "            if len(longest) < len(current):\n",
    "                longest = current\n",
    "        else:\n",
    "            current = i\n",
    "    return(longest)"
   ]
  },
  {
   "cell_type": "code",
   "execution_count": 18,
   "metadata": {
    "collapsed": false
   },
   "outputs": [
    {
     "data": {
      "text/plain": [
       "'abcd'"
      ]
     },
     "execution_count": 18,
     "metadata": {},
     "output_type": "execute_result"
    }
   ],
   "source": [
    "los('abcd')"
   ]
  },
  {
   "cell_type": "code",
   "execution_count": 19,
   "metadata": {
    "collapsed": false
   },
   "outputs": [
    {
     "data": {
      "text/plain": [
       "'abcyz'"
      ]
     },
     "execution_count": 19,
     "metadata": {},
     "output_type": "execute_result"
    }
   ],
   "source": [
    "los('xabcyz')"
   ]
  },
  {
   "cell_type": "code",
   "execution_count": 20,
   "metadata": {
    "collapsed": false
   },
   "outputs": [
    {
     "data": {
      "text/plain": [
       "'c'"
      ]
     },
     "execution_count": 20,
     "metadata": {},
     "output_type": "execute_result"
    }
   ],
   "source": [
    "los('cba')"
   ]
  },
  {
   "cell_type": "code",
   "execution_count": 21,
   "metadata": {
    "collapsed": false
   },
   "outputs": [
    {
     "data": {
      "text/plain": [
       "'ar'"
      ]
     },
     "execution_count": 21,
     "metadata": {},
     "output_type": "execute_result"
    }
   ],
   "source": [
    "los('larry')"
   ]
  },
  {
   "cell_type": "code",
   "execution_count": 22,
   "metadata": {
    "collapsed": false
   },
   "outputs": [
    {
     "data": {
      "text/plain": [
       "'abcdex'"
      ]
     },
     "execution_count": 22,
     "metadata": {},
     "output_type": "execute_result"
    }
   ],
   "source": [
    "los('xabcxabcdexuvwxyz')"
   ]
  },
  {
   "cell_type": "code",
   "execution_count": 23,
   "metadata": {
    "collapsed": false
   },
   "outputs": [
    {
     "data": {
      "text/plain": [
       "'puvwxyz'"
      ]
     },
     "execution_count": 23,
     "metadata": {},
     "output_type": "execute_result"
    }
   ],
   "source": [
    "los('xabcxabcdexpuvwxyz')"
   ]
  },
  {
   "cell_type": "markdown",
   "metadata": {},
   "source": [
    "# Problem 2\n",
    "- suppose we want to convert between C(Celsius) and F(Fahrenheit), using the equation 9*C = 5*(F-32)\n",
    "- write functions 'c2f' and 'f2c'\n",
    "- do all computation in floating point for this problem"
   ]
  },
  {
   "cell_type": "code",
   "execution_count": 30,
   "metadata": {
    "collapsed": false
   },
   "outputs": [],
   "source": [
    "from __future__ import division\n",
    "def c2f(Celsius):\n",
    "    Fahrenheit = Celsius*9/5 + 32\n",
    "    return(Fahrenheit)\n",
    "def f2c(Fahrenheit):\n",
    "    Celsius = 5*(Fahrenheit-32) / 9\n",
    "    return(Celsius)"
   ]
  },
  {
   "cell_type": "code",
   "execution_count": 31,
   "metadata": {
    "collapsed": false
   },
   "outputs": [
    {
     "data": {
      "text/plain": [
       "[32.0, 212.0, 0.0, 100.0]"
      ]
     },
     "execution_count": 31,
     "metadata": {},
     "output_type": "execute_result"
    }
   ],
   "source": [
    "[c2f(0), c2f(100), f2c(32), f2c(212)]"
   ]
  },
  {
   "cell_type": "markdown",
   "metadata": {},
   "source": [
    "- to write f2c, you solved the equation for C, and made a function out of the other side of the equation\n",
    "- to write c2f, you solved for F, ...\n",
    "- there is another way to think about this \n",
    "- rearrange the equation into a symmetric form\n",
    "\n",
    "```\n",
    "9*C - 5*F = -32*5\n",
    "```\n",
    "\n",
    "- you can think of the equation above as a \"constraint\" between F and C. if you specify one variable, \n",
    "the other's value is determined by the equation. in general, if we have\n",
    "\n",
    "```\n",
    "c0*x0 + c1*x1 + ... cN*xN = total\n",
    "```\n",
    "\n",
    "- cI are fixed coefficients\n",
    "- specifying any N of the (N+1) x's will determine the remaining x variable\n",
    "- define a class, 'Constaint' that will do 'constraint satisfaction'"
   ]
  },
  {
   "cell_type": "code",
   "execution_count": 100,
   "metadata": {
    "collapsed": false
   },
   "outputs": [],
   "source": [
    "import numpy as np\n",
    "from sympy.solvers import solve\n",
    "from sympy import Symbol"
   ]
  },
  {
   "cell_type": "code",
   "execution_count": 177,
   "metadata": {
    "collapsed": false,
    "scrolled": true
   },
   "outputs": [],
   "source": [
    "class Constraint:\n",
    "    def __init__(self, symbol, array1, res):\n",
    "        self.l = symbol.split(' ')\n",
    "        self.ll = self.l.copy()\n",
    "        self.array1 = np.array(array1, float)\n",
    "        self.res = res\n",
    "    def setvar(self, S, value):\n",
    "        if isinstance(S, str):\n",
    "            self.l = [value if i == S else i for i in self.l]\n",
    "        else:\n",
    "            self.l[S] = value\n",
    "        array2 = list(map(lambda x: Symbol(x) if isinstance(x, str) else x, self.l))\n",
    "        array2 = np.array(array2)\n",
    "        out = solve(sum(self.array1*array2)-self.res, dict=True)\n",
    "        flag = list(map(lambda x: type(x), self.l))\n",
    "        if flag.count(str) == 1:\n",
    "            self.l = self.ll\n",
    "        return(out)"
   ]
  },
  {
   "cell_type": "code",
   "execution_count": 178,
   "metadata": {
    "collapsed": false
   },
   "outputs": [
    {
     "data": {
      "text/plain": [
       "[{F: 212.000000000000}]"
      ]
     },
     "execution_count": 178,
     "metadata": {},
     "output_type": "execute_result"
    }
   ],
   "source": [
    "# setup constraint btw C and F\n",
    "# 1st arg is var names, \n",
    "# 2nd arg is coefficients\n",
    "# 3rd arg is total\n",
    "\n",
    "c = Constraint('C F', [9,-5], -5*32)\n",
    "\n",
    "# 1st arg - variable index or name\n",
    "# 2nd arg - variable value\n",
    "# setvar will fire when there is only one unset variable remaining\n",
    "# it will print the variable values, and returns them in a list, and\n",
    "# clear all variable values\n",
    "c.setvar(0, 100)"
   ]
  },
  {
   "cell_type": "code",
   "execution_count": 179,
   "metadata": {
    "collapsed": false
   },
   "outputs": [
    {
     "data": {
      "text/plain": [
       "[{F: 32.0000000000000}]"
      ]
     },
     "execution_count": 179,
     "metadata": {},
     "output_type": "execute_result"
    }
   ],
   "source": [
    "\n",
    "# can set var by index or name\n",
    "c.setvar('C', 0)"
   ]
  },
  {
   "cell_type": "code",
   "execution_count": 180,
   "metadata": {
    "collapsed": false
   },
   "outputs": [
    {
     "data": {
      "text/plain": [
       "[{C: 100.000000000000}]"
      ]
     },
     "execution_count": 180,
     "metadata": {},
     "output_type": "execute_result"
    }
   ],
   "source": [
    "c.setvar('F', 212)"
   ]
  },
  {
   "cell_type": "code",
   "execution_count": 181,
   "metadata": {
    "collapsed": false
   },
   "outputs": [
    {
     "data": {
      "text/plain": [
       "[{x1: -2.0*x2 - 3.0*x3 - 4.0*x4 + 1.0}]"
      ]
     },
     "execution_count": 181,
     "metadata": {},
     "output_type": "execute_result"
    }
   ],
   "source": [
    "c2 = Constraint('x0 x1 x2 x3 x4', range(5), 1)\n",
    "c2.setvar('x0', 0)"
   ]
  },
  {
   "cell_type": "code",
   "execution_count": 182,
   "metadata": {
    "collapsed": false
   },
   "outputs": [
    {
     "data": {
      "text/plain": [
       "[{x2: -1.5*x3 - 2.0*x4 - 4.5}]"
      ]
     },
     "execution_count": 182,
     "metadata": {},
     "output_type": "execute_result"
    }
   ],
   "source": [
    "c2.setvar('x1', 10)"
   ]
  },
  {
   "cell_type": "code",
   "execution_count": 183,
   "metadata": {
    "collapsed": false
   },
   "outputs": [
    {
     "data": {
      "text/plain": [
       "[{x3: -1.33333333333333*x4 - 16.3333333333333}]"
      ]
     },
     "execution_count": 183,
     "metadata": {},
     "output_type": "execute_result"
    }
   ],
   "source": [
    "# x2\n",
    "c2.setvar(2,20)"
   ]
  },
  {
   "cell_type": "code",
   "execution_count": 184,
   "metadata": {
    "collapsed": false
   },
   "outputs": [
    {
     "data": {
      "text/plain": [
       "[{x4: -34.7500000000000}]"
      ]
     },
     "execution_count": 184,
     "metadata": {},
     "output_type": "execute_result"
    }
   ],
   "source": [
    "# only one unset var left, x4, so fire\n",
    "c2.setvar('x3', 30)"
   ]
  },
  {
   "cell_type": "markdown",
   "metadata": {},
   "source": [
    "# Problem 3\n",
    "- write 'mindot'. given two equal length vectors, different dot products can\n",
    "be calculated, by permutting the order of the vectors. for example, given the\n",
    "vectors\n",
    "```\n",
    "[10,20]\n",
    "[0, 1]\n",
    "```\n",
    "- there are two possible dot products, 10 and 20. \n",
    "- mindot should return the min, 10\n",
    "- mindot can be written very easily by using functions from itertools and functools\n",
    "- 'operator' module has functional versions of operators\n",
    "  - '+' <=> operator.add\n",
    "  - '*' <=> operator.mul"
   ]
  },
  {
   "cell_type": "code",
   "execution_count": 1,
   "metadata": {
    "collapsed": false
   },
   "outputs": [
    {
     "data": {
      "text/plain": [
       "[5, 6]"
      ]
     },
     "execution_count": 1,
     "metadata": {},
     "output_type": "execute_result"
    }
   ],
   "source": [
    "import itertools \n",
    "import functools\n",
    "import operator\n",
    "\n",
    "v2a = [10,20]\n",
    "v2b = [0, 1]\n",
    "\n",
    "v3a = [1,3,-5]\n",
    "v3b = [-2, 4, 1]\n",
    "\n",
    "v4a = range(1,6)\n",
    "v4b = [1,0,1,0,1]\n",
    "\n",
    "[operator.add(2,3), operator.mul(2,3)]"
   ]
  },
  {
   "cell_type": "code",
   "execution_count": 24,
   "metadata": {
    "collapsed": false
   },
   "outputs": [],
   "source": [
    "def dotproduct(vec1, vec2, sum=sum, map=map, mul=operator.mul):\n",
    "    return sum(map(mul, vec1, vec2))\n",
    "def mindot(vec1, vec2):\n",
    "    List = []\n",
    "    for i in itertools.permutations(vec2, len(vec2)):\n",
    "        l = dotproduct(vec1, i)\n",
    "        List.append(l)\n",
    "    return(min(List))"
   ]
  },
  {
   "cell_type": "code",
   "execution_count": 25,
   "metadata": {
    "collapsed": false
   },
   "outputs": [
    {
     "data": {
      "text/plain": [
       "[10, -25, 6]"
      ]
     },
     "execution_count": 25,
     "metadata": {},
     "output_type": "execute_result"
    }
   ],
   "source": [
    "[mindot(v2a,v2b),mindot(v3a, v3b), mindot(v4a, v4b)]"
   ]
  },
  {
   "cell_type": "markdown",
   "metadata": {},
   "source": [
    "# Problem 4\n",
    "- You are in a store, and you have some cash burning a hole in your pocket - you want to spend all of it!!\n",
    "- write 'pickitems' \n",
    "  - 1st arg - list of prices for things in the store\n",
    "  - 2nd arg - cash you have\n",
    "  - returns - list of prices that will exactly spend your cash\n",
    "- itertools module is your friend"
   ]
  },
  {
   "cell_type": "code",
   "execution_count": 32,
   "metadata": {
    "collapsed": true
   },
   "outputs": [],
   "source": [
    "cash1 = 4\n",
    "prices1= [1,1,1,1,8]\n",
    "\n",
    "cash2 = 200\n",
    "prices2 = [150, 24, 79, 50, 88, 345, 3]\n",
    "\n",
    "cash3 = 8\n",
    "prices3 = [2, 1, 9, 4, 4, 56, 90, 3]\n",
    "\n",
    "cash4 = 542\n",
    "prices4 = [230, 863, 916, 585, 981, 404, 316, 785, \n",
    "       88, 12, 70, 435, 384, 778, 887, 755, 740, \n",
    "       337, 86, 92, 325, 422, 815, 650, 920, 125,\n",
    "       277, 336, 221, 847, 168, 23, 677, 61, 400,\n",
    "       136, 874, 363, 394, 199, 863, 997, 794, 587,\n",
    "       124, 321, 212, 957, 764, 173, 314, 422, 927,\n",
    "       783, 930, 282, 306, 506, 44, 926, 691, 568,\n",
    "       68, 730, 933, 737, 531, 180, 414, 751, 28, \n",
    "       546, 60, 371, 493, 370, 527, 387, 43, 541,\n",
    "       13, 457, 328, 227, 652, 365, 430, 803, 59,\n",
    "       858, 538, 427, 583, 368, 375, 173, 809, 896,\n",
    "       370, 789]\n"
   ]
  },
  {
   "cell_type": "code",
   "execution_count": 33,
   "metadata": {
    "collapsed": true
   },
   "outputs": [],
   "source": [
    "def pickitems(prices, cash):\n",
    "    for i in range(1,len(prices)+1):\n",
    "        for r in itertools.combinations(prices, i):\n",
    "            if sum(r) == cash:\n",
    "                return(r)"
   ]
  },
  {
   "cell_type": "code",
   "execution_count": 34,
   "metadata": {
    "collapsed": false
   },
   "outputs": [
    {
     "data": {
      "text/plain": [
       "[(1, 1, 1, 1), (150, 50), (4, 4), (221, 321)]"
      ]
     },
     "execution_count": 34,
     "metadata": {},
     "output_type": "execute_result"
    }
   ],
   "source": [
    "[pickitems(prices1, cash1), pickitems(prices2, cash2), pickitems(prices3, cash3), pickitems(prices4, cash4)]"
   ]
  },
  {
   "cell_type": "markdown",
   "metadata": {},
   "source": [
    "# Problem 5\n",
    "- define a function decorator 'secure'\n",
    "- secure adds two required arguments before any others, a 'user' and a 'password'\n",
    "- if the user is not registered, raise an Exception\n",
    "- if the user is registered, but the password is wrong, raise an Exception"
   ]
  },
  {
   "cell_type": "code",
   "execution_count": 98,
   "metadata": {
    "collapsed": false
   },
   "outputs": [],
   "source": [
    "def secure(func):\n",
    "    def inner(user, pw, *args, **kwgs):\n",
    "      \n",
    "        if user in up.keys(): \n",
    "            if pw in up.values():\n",
    "                l1 = list(args)\n",
    "                l2 = list(kwgs.values())\n",
    "                l = l1 + l2\n",
    "                a = l[0]\n",
    "                b = l[1]\n",
    "                return(func(a, b))\n",
    "            else:\n",
    "                raise NameError('name %s is not defined' % user)\n",
    "        elif user not in up.keys():\n",
    "             raise Exception('User %s is not registered' % user)\n",
    "    return (inner) # return the inner function (don't call it)"
   ]
  },
  {
   "cell_type": "code",
   "execution_count": 99,
   "metadata": {
    "collapsed": false,
    "scrolled": true
   },
   "outputs": [],
   "source": [
    "# the user/password 'database'\n",
    "up = {}\n",
    "up['jack'] = 'jackpw'\n",
    "up['jill'] = 'jillpw'\n",
    "\n",
    "    \n",
    "@secure\n",
    "def foo(a,b):\n",
    "    return (a+b)\n",
    "\n",
    "@secure\n",
    "def bar(a, b=34):\n",
    "    return(a+b)\n"
   ]
  },
  {
   "cell_type": "code",
   "execution_count": 100,
   "metadata": {
    "collapsed": false
   },
   "outputs": [
    {
     "ename": "Exception",
     "evalue": "User 1 is not registered",
     "output_type": "error",
     "traceback": [
      "\u001b[0;31m---------------------------------------------------------------------------\u001b[0m",
      "\u001b[0;31mException\u001b[0m                                 Traceback (most recent call last)",
      "\u001b[0;32m<ipython-input-100-790da69007fa>\u001b[0m in \u001b[0;36m<module>\u001b[0;34m()\u001b[0m\n\u001b[1;32m      1\u001b[0m \u001b[0;31m# wrong number of args\u001b[0m\u001b[0;34m\u001b[0m\u001b[0;34m\u001b[0m\u001b[0m\n\u001b[1;32m      2\u001b[0m \u001b[0;34m\u001b[0m\u001b[0m\n\u001b[0;32m----> 3\u001b[0;31m \u001b[0mfoo\u001b[0m\u001b[0;34m(\u001b[0m\u001b[0;36m1\u001b[0m\u001b[0;34m,\u001b[0m\u001b[0;36m2\u001b[0m\u001b[0;34m)\u001b[0m\u001b[0;34m\u001b[0m\u001b[0m\n\u001b[0m",
      "\u001b[0;32m<ipython-input-98-069b6a4f408e>\u001b[0m in \u001b[0;36minner\u001b[0;34m(user, pw, *args, **kwgs)\u001b[0m\n\u001b[1;32m     13\u001b[0m                 \u001b[0;32mraise\u001b[0m \u001b[0mNameError\u001b[0m\u001b[0;34m(\u001b[0m\u001b[0;34m'name %s is not defined'\u001b[0m \u001b[0;34m%\u001b[0m \u001b[0muser\u001b[0m\u001b[0;34m)\u001b[0m\u001b[0;34m\u001b[0m\u001b[0m\n\u001b[1;32m     14\u001b[0m         \u001b[0;32melif\u001b[0m \u001b[0muser\u001b[0m \u001b[0;32mnot\u001b[0m \u001b[0;32min\u001b[0m \u001b[0mup\u001b[0m\u001b[0;34m.\u001b[0m\u001b[0mkeys\u001b[0m\u001b[0;34m(\u001b[0m\u001b[0;34m)\u001b[0m\u001b[0;34m:\u001b[0m\u001b[0;34m\u001b[0m\u001b[0m\n\u001b[0;32m---> 15\u001b[0;31m              \u001b[0;32mraise\u001b[0m \u001b[0mException\u001b[0m\u001b[0;34m(\u001b[0m\u001b[0;34m'User %s is not registered'\u001b[0m \u001b[0;34m%\u001b[0m \u001b[0muser\u001b[0m\u001b[0;34m)\u001b[0m\u001b[0;34m\u001b[0m\u001b[0m\n\u001b[0m\u001b[1;32m     16\u001b[0m     \u001b[0;32mreturn\u001b[0m \u001b[0;34m(\u001b[0m\u001b[0minner\u001b[0m\u001b[0;34m)\u001b[0m \u001b[0;31m# return the inner function (don't call it)\u001b[0m\u001b[0;34m\u001b[0m\u001b[0m\n",
      "\u001b[0;31mException\u001b[0m: User 1 is not registered"
     ]
    }
   ],
   "source": [
    "# wrong number of args\n",
    "\n",
    "foo(1,2)"
   ]
  },
  {
   "cell_type": "code",
   "execution_count": 101,
   "metadata": {
    "collapsed": false
   },
   "outputs": [
    {
     "data": {
      "text/plain": [
       "3"
      ]
     },
     "execution_count": 101,
     "metadata": {},
     "output_type": "execute_result"
    }
   ],
   "source": [
    "# good call\n",
    "\n",
    "foo('jack', 'jackpw', 1 ,2)"
   ]
  },
  {
   "cell_type": "code",
   "execution_count": 102,
   "metadata": {
    "collapsed": false
   },
   "outputs": [
    {
     "ename": "Exception",
     "evalue": "User frank is not registered",
     "output_type": "error",
     "traceback": [
      "\u001b[0;31m---------------------------------------------------------------------------\u001b[0m",
      "\u001b[0;31mException\u001b[0m                                 Traceback (most recent call last)",
      "\u001b[0;32m<ipython-input-102-b35ba770f676>\u001b[0m in \u001b[0;36m<module>\u001b[0;34m()\u001b[0m\n\u001b[1;32m      1\u001b[0m \u001b[0;31m# bad user\u001b[0m\u001b[0;34m\u001b[0m\u001b[0;34m\u001b[0m\u001b[0m\n\u001b[1;32m      2\u001b[0m \u001b[0;34m\u001b[0m\u001b[0m\n\u001b[0;32m----> 3\u001b[0;31m \u001b[0mfoo\u001b[0m\u001b[0;34m(\u001b[0m\u001b[0;34m'frank'\u001b[0m\u001b[0;34m,\u001b[0m \u001b[0;34m'bad'\u001b[0m\u001b[0;34m,\u001b[0m \u001b[0;36m1\u001b[0m \u001b[0;34m,\u001b[0m\u001b[0;36m2\u001b[0m\u001b[0;34m)\u001b[0m\u001b[0;34m\u001b[0m\u001b[0m\n\u001b[0m",
      "\u001b[0;32m<ipython-input-98-069b6a4f408e>\u001b[0m in \u001b[0;36minner\u001b[0;34m(user, pw, *args, **kwgs)\u001b[0m\n\u001b[1;32m     13\u001b[0m                 \u001b[0;32mraise\u001b[0m \u001b[0mNameError\u001b[0m\u001b[0;34m(\u001b[0m\u001b[0;34m'name %s is not defined'\u001b[0m \u001b[0;34m%\u001b[0m \u001b[0muser\u001b[0m\u001b[0;34m)\u001b[0m\u001b[0;34m\u001b[0m\u001b[0m\n\u001b[1;32m     14\u001b[0m         \u001b[0;32melif\u001b[0m \u001b[0muser\u001b[0m \u001b[0;32mnot\u001b[0m \u001b[0;32min\u001b[0m \u001b[0mup\u001b[0m\u001b[0;34m.\u001b[0m\u001b[0mkeys\u001b[0m\u001b[0;34m(\u001b[0m\u001b[0;34m)\u001b[0m\u001b[0;34m:\u001b[0m\u001b[0;34m\u001b[0m\u001b[0m\n\u001b[0;32m---> 15\u001b[0;31m              \u001b[0;32mraise\u001b[0m \u001b[0mException\u001b[0m\u001b[0;34m(\u001b[0m\u001b[0;34m'User %s is not registered'\u001b[0m \u001b[0;34m%\u001b[0m \u001b[0muser\u001b[0m\u001b[0;34m)\u001b[0m\u001b[0;34m\u001b[0m\u001b[0m\n\u001b[0m\u001b[1;32m     16\u001b[0m     \u001b[0;32mreturn\u001b[0m \u001b[0;34m(\u001b[0m\u001b[0minner\u001b[0m\u001b[0;34m)\u001b[0m \u001b[0;31m# return the inner function (don't call it)\u001b[0m\u001b[0;34m\u001b[0m\u001b[0m\n",
      "\u001b[0;31mException\u001b[0m: User frank is not registered"
     ]
    }
   ],
   "source": [
    "# bad user\n",
    "\n",
    "foo('frank', 'bad', 1 ,2)"
   ]
  },
  {
   "cell_type": "code",
   "execution_count": 103,
   "metadata": {
    "collapsed": false
   },
   "outputs": [
    {
     "ename": "NameError",
     "evalue": "name jack is not defined",
     "output_type": "error",
     "traceback": [
      "\u001b[0;31m---------------------------------------------------------------------------\u001b[0m",
      "\u001b[0;31mNameError\u001b[0m                                 Traceback (most recent call last)",
      "\u001b[0;32m<ipython-input-103-c358a6298bd4>\u001b[0m in \u001b[0;36m<module>\u001b[0;34m()\u001b[0m\n\u001b[1;32m      1\u001b[0m \u001b[0;31m# good user, bad passwd\u001b[0m\u001b[0;34m\u001b[0m\u001b[0;34m\u001b[0m\u001b[0m\n\u001b[0;32m----> 2\u001b[0;31m \u001b[0mfoo\u001b[0m\u001b[0;34m(\u001b[0m\u001b[0;34m'jack'\u001b[0m\u001b[0;34m,\u001b[0m \u001b[0;34m'nope'\u001b[0m\u001b[0;34m)\u001b[0m\u001b[0;34m\u001b[0m\u001b[0m\n\u001b[0m",
      "\u001b[0;32m<ipython-input-98-069b6a4f408e>\u001b[0m in \u001b[0;36minner\u001b[0;34m(user, pw, *args, **kwgs)\u001b[0m\n\u001b[1;32m     11\u001b[0m                 \u001b[0;32mreturn\u001b[0m\u001b[0;34m(\u001b[0m\u001b[0mfunc\u001b[0m\u001b[0;34m(\u001b[0m\u001b[0ma\u001b[0m\u001b[0;34m,\u001b[0m \u001b[0mb\u001b[0m\u001b[0;34m)\u001b[0m\u001b[0;34m)\u001b[0m\u001b[0;34m\u001b[0m\u001b[0m\n\u001b[1;32m     12\u001b[0m             \u001b[0;32melse\u001b[0m\u001b[0;34m:\u001b[0m\u001b[0;34m\u001b[0m\u001b[0m\n\u001b[0;32m---> 13\u001b[0;31m                 \u001b[0;32mraise\u001b[0m \u001b[0mNameError\u001b[0m\u001b[0;34m(\u001b[0m\u001b[0;34m'name %s is not defined'\u001b[0m \u001b[0;34m%\u001b[0m \u001b[0muser\u001b[0m\u001b[0;34m)\u001b[0m\u001b[0;34m\u001b[0m\u001b[0m\n\u001b[0m\u001b[1;32m     14\u001b[0m         \u001b[0;32melif\u001b[0m \u001b[0muser\u001b[0m \u001b[0;32mnot\u001b[0m \u001b[0;32min\u001b[0m \u001b[0mup\u001b[0m\u001b[0;34m.\u001b[0m\u001b[0mkeys\u001b[0m\u001b[0;34m(\u001b[0m\u001b[0;34m)\u001b[0m\u001b[0;34m:\u001b[0m\u001b[0;34m\u001b[0m\u001b[0m\n\u001b[1;32m     15\u001b[0m              \u001b[0;32mraise\u001b[0m \u001b[0mException\u001b[0m\u001b[0;34m(\u001b[0m\u001b[0;34m'User %s is not registered'\u001b[0m \u001b[0;34m%\u001b[0m \u001b[0muser\u001b[0m\u001b[0;34m)\u001b[0m\u001b[0;34m\u001b[0m\u001b[0m\n",
      "\u001b[0;31mNameError\u001b[0m: name jack is not defined"
     ]
    }
   ],
   "source": [
    "# good user, bad passwd\n",
    "foo('jack', 'nope')"
   ]
  },
  {
   "cell_type": "code",
   "execution_count": 104,
   "metadata": {
    "collapsed": false
   },
   "outputs": [
    {
     "data": {
      "text/plain": [
       "39"
      ]
     },
     "execution_count": 104,
     "metadata": {},
     "output_type": "execute_result"
    }
   ],
   "source": [
    "# works with keywords\n",
    "\n",
    "bar('jill', 'jillpw', 5, b=34)\n"
   ]
  },
  {
   "cell_type": "code",
   "execution_count": null,
   "metadata": {
    "collapsed": true
   },
   "outputs": [],
   "source": []
  }
 ],
 "metadata": {
  "kernelspec": {
   "display_name": "Python 3",
   "language": "python",
   "name": "python3"
  },
  "language_info": {
   "codemirror_mode": {
    "name": "ipython",
    "version": 3
   },
   "file_extension": ".py",
   "mimetype": "text/x-python",
   "name": "python",
   "nbconvert_exporter": "python",
   "pygments_lexer": "ipython3",
   "version": "3.4.3"
  }
 },
 "nbformat": 4,
 "nbformat_minor": 0
}
