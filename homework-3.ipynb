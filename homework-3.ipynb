{
 "cells": [
  {
   "cell_type": "markdown",
   "metadata": {},
   "source": [
    "# Introduction to Python\n",
    "# Homework #3\n",
    "# Due Tuesday, Oct 6, 11:59pm in Courseworks"
   ]
  },
  {
   "cell_type": "markdown",
   "metadata": {},
   "source": [
    "# Academic Honesty\n",
    "* The computer science department has strict polices. Check\n",
    "the department [web page](http://www.cs.columbia.edu/education/honesty) for details. \n",
    "- Do not look at anybody else's source code. Do not show anybody\n",
    "your source, or leave your source where somebody could see it.\n",
    "You MUST write your own code.\n",
    "- For this class, feel free to discuss issues with other people, but suggest waiting an hour or two after a discussion, before writing your code.\n",
    "-  Cases of non original source will be refered to the Judical Committee.\n",
    "\n"
   ]
  },
  {
   "cell_type": "markdown",
   "metadata": {},
   "source": [
    "#  Problem 1 - Substitution Cipher\n",
    "- you will implement a simple substitution cipher encode/decode of the lower case letters, a-z\n",
    "- encoding works by mapping the character set into a permutation of itself. \n",
    "- decoding undoes the mapping\n",
    "\n",
    "for example, if the map looks like\n",
    "\n",
    "\n",
    "```\n",
    "a <-> f\n",
    "b <-> m\n",
    "c <-> y\n",
    "...\n",
    "```\n",
    "\n",
    "- to encode 'bac', go from left to right, and get 'mfy'\n",
    "- to decode 'mfy', go from right to left, and get back 'bac'\n",
    "- to implement, define classes that act as 'keys', with 'encode' and 'decode' methods\n",
    "- pickle will save/load classes and their attributes\n",
    "\n"
   ]
  },
  {
   "cell_type": "code",
   "execution_count": 2,
   "metadata": {
    "collapsed": false
   },
   "outputs": [
    {
     "data": {
      "text/plain": [
       "'abcdefghijklmnopqrstuvwxyz'"
      ]
     },
     "execution_count": 2,
     "metadata": {},
     "output_type": "execute_result"
    }
   ],
   "source": [
    "# string module has lowercase letters\n",
    "import string\n",
    "\n",
    "alphabet = string.ascii_lowercase\n",
    "alphabet"
   ]
  },
  {
   "cell_type": "code",
   "execution_count": 18,
   "metadata": {
    "collapsed": true
   },
   "outputs": [],
   "source": [
    "# Simple cipher\n",
    "\n",
    "class swapaz:\n",
    "    ''' swap 'a' and 'z' '''\n",
    "    def encode(self, s):\n",
    "        s = s.replace('a', 'A').replace('z', 'Z').replace('Z','a').replace('A', 'z')\n",
    "        return(s)\n",
    "        \n",
    "    def decode(self, s):\n",
    "        return(self.encode(s))\n",
    "\n"
   ]
  },
  {
   "cell_type": "code",
   "execution_count": 292,
   "metadata": {
    "collapsed": false
   },
   "outputs": [
    {
     "name": "stdout",
     "output_type": "stream",
     "text": [
      "lzrry\n"
     ]
    }
   ],
   "source": [
    "s = swapaz()\n",
    "e = s.encode('larry')\n",
    "print(e)"
   ]
  },
  {
   "cell_type": "code",
   "execution_count": 6,
   "metadata": {
    "collapsed": true
   },
   "outputs": [],
   "source": [
    "# a cipher that does not permute the alphabet is no good\n",
    "\n",
    "class bad:\n",
    "    # substitution cipher must always return\n",
    "    # same # of chars\n",
    "    def encode(self, s):\n",
    "        return('x')\n",
    "        \n",
    "    def decode(self, s):\n",
    "        return('xy')\n",
    "\n",
    "class bad2:\n",
    "    # substitution cipher must map all characters 1 to 1\n",
    "    # here 'a' and 'b' both map to 'b'\n",
    "    def encode(self, s):\n",
    "        return(''.join([ 'b' if e == 'a' else e for e in s]))\n",
    "    def decode(self, s):\n",
    "        return(s)"
   ]
  },
  {
   "cell_type": "code",
   "execution_count": 9,
   "metadata": {
    "collapsed": false
   },
   "outputs": [
    {
     "name": "stdout",
     "output_type": "stream",
     "text": [
      "x\n"
     ]
    },
    {
     "data": {
      "text/plain": [
       "'xy'"
      ]
     },
     "execution_count": 9,
     "metadata": {},
     "output_type": "execute_result"
    }
   ],
   "source": [
    "s = bad()\n",
    "e = s.encode('larry')\n",
    "print(e)\n",
    "s.decode(e)\n"
   ]
  },
  {
   "cell_type": "markdown",
   "metadata": {},
   "source": [
    "# Problem 1a - Define a predicate, 'goodperm'\n",
    "- value is True for cipher that generates a valid permutation, False otherwise\n"
   ]
  },
  {
   "cell_type": "code",
   "execution_count": 26,
   "metadata": {
    "collapsed": false
   },
   "outputs": [],
   "source": [
    "def goodperm(c):\n",
    "    temp = c.encode(alphabet)\n",
    "    alphabet2 = c.decode(temp)\n",
    "    if alphabet==alphabet2:\n",
    "        return(True)\n",
    "    else:\n",
    "        return(False)"
   ]
  },
  {
   "cell_type": "code",
   "execution_count": 27,
   "metadata": {
    "collapsed": false
   },
   "outputs": [
    {
     "data": {
      "text/plain": [
       "[True, False, False]"
      ]
     },
     "execution_count": 27,
     "metadata": {},
     "output_type": "execute_result"
    }
   ],
   "source": [
    "[goodperm(c) for c in [swapaz(), bad(), bad2()]]"
   ]
  },
  {
   "cell_type": "markdown",
   "metadata": {},
   "source": [
    "# Problem 1b - Define a function, saveKey(path, key)\n",
    "  - key is a key object\n",
    "  - path is a filename where the key object should be saved by using pickeling. \n",
    "  - normally saveKey should run silently and return None, but if it determines the key is bad, it should raise an 'Exception'\n",
    "  - the 'Exception' constructor takes a string arg, which is the message.\n",
    "  - remember you need a \"binary\" file stream when using pickling. "
   ]
  },
  {
   "cell_type": "code",
   "execution_count": 28,
   "metadata": {
    "collapsed": false
   },
   "outputs": [],
   "source": [
    "# a valid key obj\n",
    "import pickle\n",
    "keypath = '/tmp/key.pickle'\n",
    "def saveKey(path, key):\n",
    "    if goodperm(key) == False:\n",
    "        return('Exception')\n",
    "    else:\n",
    "        pickle.dump(key, open(path, \"wb\"))\n",
    "saveKey(keypath, swapaz())"
   ]
  },
  {
   "cell_type": "markdown",
   "metadata": {},
   "source": [
    "# Problem 2a\n",
    "- write encode and decode functions that take:\n",
    "  - a path to a pickled key object \n",
    "  - a string to process\n",
    "\n"
   ]
  },
  {
   "cell_type": "code",
   "execution_count": 30,
   "metadata": {
    "collapsed": false
   },
   "outputs": [
    {
     "name": "stdout",
     "output_type": "stream",
     "text": [
      "lzrry\n"
     ]
    },
    {
     "data": {
      "text/plain": [
       "'larry'"
      ]
     },
     "execution_count": 30,
     "metadata": {},
     "output_type": "execute_result"
    }
   ],
   "source": [
    "def encode(path, string):\n",
    "    pickle.dump(string, open(path, \"wb\"))\n",
    "    string = string.replace('a', 'A').replace('z', 'Z').replace('Z','a').replace('A', 'z')\n",
    "    return(string)\n",
    "def decode(path, string):\n",
    "    pickle.dump(string, open(path, \"wb\"))\n",
    "    string = encode(path, string)\n",
    "    return(string)\n",
    "e = encode(keypath, \"larry\")\n",
    "print(e)\n",
    "decode(keypath, e)"
   ]
  },
  {
   "cell_type": "markdown",
   "metadata": {},
   "source": [
    "# Problem 2b\n",
    "- write a key class that takes an integer, and makes a permutation by just cyclically rotating the character set\n",
    "- any number of ways to implement this\n",
    "- examples should make this clear"
   ]
  },
  {
   "cell_type": "code",
   "execution_count": 3,
   "metadata": {
    "collapsed": false
   },
   "outputs": [
    {
     "data": {
      "text/plain": [
       "'xyzabcdefghijklmnopqrstuvw'"
      ]
     },
     "execution_count": 3,
     "metadata": {},
     "output_type": "execute_result"
    }
   ],
   "source": [
    "# rotate 3 chars to the right\n",
    "class encrot():\n",
    "    def __init__(self, n):\n",
    "        self.n = n\n",
    "    def encode(self, string):\n",
    "        return(string[-self.n:]+string[:26-self.n] if self.n>0 else string[-self.n:]+string[:-self.n])\n",
    "    \n",
    "e3 = encrot(3)\n",
    "e3.encode(alphabet)"
   ]
  },
  {
   "cell_type": "code",
   "execution_count": 4,
   "metadata": {
    "collapsed": false
   },
   "outputs": [
    {
     "data": {
      "text/plain": [
       "'fghijklmnopqrstuvwxyzabcde'"
      ]
     },
     "execution_count": 4,
     "metadata": {},
     "output_type": "execute_result"
    }
   ],
   "source": [
    "# rotate 5 chars to the left\n",
    "em3 = encrot(-5)\n",
    "em3.encode(alphabet)"
   ]
  },
  {
   "cell_type": "markdown",
   "metadata": {},
   "source": [
    "# Problem 3\n",
    "- MIT has the complete works of Shakespeare in a simple [html](http://shakespeare.mit.edu) format\n",
    "- You will do a simple analysis of Hamlet by reading the html file, one line at \n",
    "a time(usual iteration scheme) and doing pattern matching\n",
    "- The goal is to return a list of the linecnt, total number of 'speeches'(look at the file format), \n",
    "and a dict showing the number of 'speeches' each character gives\n",
    "- Your program should read directly from the url given below, but you may want to download\n",
    "a copy to examine the structure of the file. \n",
    "- There are any number ways to do this:\n",
    "    - use string 'find' method\n",
    "    - use regular expressions\n",
    "    - use the 'beautiful soup' module\n",
    "- you might find ['defaultdict'](https://docs.python.org/3.4/library/collections.html#collections.defaultdict) convenient\n",
    "- python is very popular in 'digital humanities'\n",
    "- here's a short sample of the file\n",
    "\n",
    "```\n",
    "\n",
    "<A NAME=speech25><b>HORATIO</b></a>\n",
    "<blockquote>\n",
    "<A NAME=1.1.37>Tush, tush, 'twill not appear.</A><br>\n",
    "</blockquote>\n",
    "\n",
    "<A NAME=speech26><b>BERNARDO</b></a>\n",
    "<blockquote>\n",
    "<A NAME=1.1.38>Sit down awhile;</A><br>\n",
    "<A NAME=1.1.39>And let us once again assail your ears,</A><br>\n",
    "<A NAME=1.1.40>That are so fortified against our story</A><br>\n",
    "<A NAME=1.1.41>What we have two nights seen.</A><br>\n",
    "</blockquote>\n",
    "\n",
    "<A NAME=speech27><b>HORATIO</b></a>\n",
    "<blockquote>\n",
    "<A NAME=1.1.42>Well, sit we down,</A><br>\n",
    "<A NAME=1.1.43>And let us hear Bernardo speak of this.</A><br>\n",
    "</blockquote>\n",
    "\n",
    "<A NAME=speech28><b>BERNARDO</b></a>\n",
    "<blockquote>\n",
    "<A NAME=1.1.44>Last night of all,</A><br>\n",
    "<A NAME=1.1.45>When yond same star that's westward from the pole</A><br>\n",
    "<A NAME=1.1.46>Had made his course to illume that part of heaven</A><br>\n",
    "<A NAME=1.1.47>Where now it burns, Marcellus and myself,</A><br>\n",
    "<A NAME=1.1.48>The bell then beating one,--</A><br>\n",
    "<p><i>Enter Ghost</i></p>\n",
    "</blockquote>\n",
    "\n",
    "<A NAME=speech29><b>MARCELLUS</b></a>\n",
    "<blockquote>\n",
    "<A NAME=1.1.49>Peace, break thee off; look, where it comes again!</A><br>\n",
    "</blockquote>\n",
    "\n",
    "<A NAME=speech30><b>BERNARDO</b></a>\n",
    "<blockquote>\n",
    "<A NAME=1.1.50>In the same figure, like the king that's dead.</A><br>\n",
    "</blockquote>\n",
    "```\n",
    "\n"
   ]
  },
  {
   "cell_type": "code",
   "execution_count": 5,
   "metadata": {
    "collapsed": false
   },
   "outputs": [
    {
     "name": "stdout",
     "output_type": "stream",
     "text": [
      "b'<!DOCTYPE HTML PUBLIC \"-//W3C//DTD HTML 4.0 Transitional//EN\"\\n'\n",
      "<!DOCTYPE HTML PUBLIC \"-//W3C//DTD HTML 4.0 Transitional//EN\"\n",
      "\n"
     ]
    }
   ],
   "source": [
    "import collections\n",
    "import re\n",
    "import urllib\n",
    "\n",
    "# use this url for the hamlet text, don't hit MIT\n",
    "url = 'https://courseworks.columbia.edu/access/content/group/COMSW3101_002_2015_3/week3/hamlet.html'\n",
    "\n",
    "# note the lines returned will be of type 'byte'. you can see this by the \n",
    "# \"b'\" prefix. to get a string, the binary array must be decoded into unicode\n",
    "\n",
    "with urllib.request.urlopen(url) as ef:\n",
    "    for bin in ef:\n",
    "        print(bin)\n",
    "        s = bin.decode('utf-8')\n",
    "        print(s)\n",
    "        break"
   ]
  },
  {
   "cell_type": "code",
   "execution_count": 6,
   "metadata": {
    "collapsed": false
   },
   "outputs": [
    {
     "data": {
      "text/plain": [
       "[8881,\n",
       " 1150,\n",
       " Counter({'HAMLET': 359, 'HORATIO': 112, 'KING CLAUDIUS': 102, 'LORD POLONIUS': 86, 'QUEEN GERTRUDE': 69, 'LAERTES': 62, 'OPHELIA': 58, 'ROSENCRANTZ': 48, 'MARCELLUS': 36, 'First Clown': 33, 'GUILDENSTERN': 32, 'OSRIC': 25, 'BERNARDO': 23, 'Ghost': 14, 'REYNALDO': 13, 'Second Clown': 12, 'First Player': 8, 'FRANCISCO': 8, 'Captain': 7, 'PRINCE FORTINBRAS': 6, 'Player Queen': 5, 'Player King': 4, 'All': 4, 'Lord': 3, 'Gentleman': 3, 'Danes': 3, 'VOLTIMAND': 2, 'Messenger': 2, 'First Priest': 2, 'First Sailor': 2, 'Servant': 1, 'LUCIANUS': 1, 'First Ambassador': 1, 'ROSENCRANTZ:': 1, 'CORNELIUS': 1, 'GUILDENSTERN:': 1, 'Prologue': 1})]"
      ]
     },
     "execution_count": 6,
     "metadata": {},
     "output_type": "execute_result"
    }
   ],
   "source": [
    "# when i first ran the program, i noticed the file had a few bugs\n",
    "# oddly, ROSENCRANTZ and GUILDENSTERN each have a trailing colon once.\n",
    "\n",
    "def actors(url):\n",
    "    with urllib.request.urlopen(url) as ef:\n",
    "        count = 0\n",
    "        for bin in ef:\n",
    "            count += 1\n",
    "    with urllib.request.urlopen(url) as ef:\n",
    "        List = []\n",
    "        from bs4 import BeautifulSoup\n",
    "        soup = BeautifulSoup(ef, 'html.parser')\n",
    "        a = soup.findAll('b')\n",
    "        for al in a:\n",
    "            List.append(str(al.contents[0]))\n",
    "    return([count, len(List), collections.Counter(List)])\n",
    "actors(url)"
   ]
  },
  {
   "cell_type": "code",
   "execution_count": 7,
   "metadata": {
    "collapsed": false
   },
   "outputs": [
    {
     "data": {
      "text/plain": [
       "[8881,\n",
       " 1150,\n",
       " Counter({'HAMLET': 359, 'HORATIO': 112, 'KING CLAUDIUS': 102, 'LORD POLONIUS': 86, 'QUEEN GERTRUDE': 69, 'LAERTES': 62, 'OPHELIA': 58, 'ROSENCRANTZ': 48, 'MARCELLUS': 36, 'First Clown': 33, 'GUILDENSTERN': 32, 'OSRIC': 25, 'BERNARDO': 23, 'Ghost': 14, 'REYNALDO': 13, 'Second Clown': 12, 'First Player': 8, 'FRANCISCO': 8, 'Captain': 7, 'PRINCE FORTINBRAS': 6, 'Player Queen': 5, 'Player King': 4, 'All': 4, 'Lord': 3, 'Gentleman': 3, 'Danes': 3, 'VOLTIMAND': 2, 'Messenger': 2, 'First Priest': 2, 'First Sailor': 2, 'Servant': 1, 'LUCIANUS': 1, 'First Ambassador': 1, 'ROSENCRANTZ:': 1, 'CORNELIUS': 1, 'GUILDENSTERN:': 1, 'Prologue': 1})]"
      ]
     },
     "execution_count": 7,
     "metadata": {},
     "output_type": "execute_result"
    }
   ],
   "source": [
    "# could fix the ':' problem by tweaking the regex\n",
    "def actors2(url):\n",
    "    out = actors(url)\n",
    "    return(out)\n",
    "    \n",
    "actors2(url)\n"
   ]
  },
  {
   "cell_type": "markdown",
   "metadata": {},
   "source": [
    "# Problem 4\n",
    "- implement a class 'Interval', that does 'interval arithmetic'\n",
    "- an interval consists of a min and max value. use attribute names 'imin', 'imax' to avoid confusion with 'min' and 'max' functions\n",
    "- let 'i' and 'i2' be intervals\n",
    "- ```i + i2 represents a new interval, where the new imin and imax is the min and max of (x + x2), where i.imin <= x <= i.imax and i2.imin <= x2 <= i2.imax```\n",
    "- ```i * i2 represents a new interval, where the new imin and imax is the min and max of (x * x2), where i.imin <= x <= i.imax and i2.imin <= x2 <= i2.imax```\n",
    "- adding intervals is easy \n",
    "- multiplying intervals - think for a second\n",
    "- should be able to add or multiply by a scalar(an integer) on the right\n",
    "- let i be an Interval, s a scalar(integer)\n",
    "    - ```i + s is the same as i + Interval(s, s)```\n",
    "    - ```i * s is the same as i * Interval(s, s)```\n",
    "- an interval should print as ```Interval<imin, imax>```\n",
    "- use only integers, no floats\n"
   ]
  },
  {
   "cell_type": "code",
   "execution_count": 8,
   "metadata": {
    "collapsed": true
   },
   "outputs": [],
   "source": [
    "class Interval:\n",
    "    def __init__(self, a, b):\n",
    "        self.cor = [min(a, b), max(a, b)]\n",
    "    def __add__(self, p):\n",
    "        if isinstance(p, int):\n",
    "            imax = self.cor[1] + p\n",
    "            imin = self.cor[0] + p\n",
    "        else:\n",
    "            List = []\n",
    "            for i in p.cor:\n",
    "                for j in self.cor:\n",
    "                    List.append(i+j)\n",
    "                    imax = max(List)\n",
    "                    imin = min(List)\n",
    "        return('Interval<%d, %d>' % (imin, imax))\n",
    "    def __mul__(self, p):\n",
    "        if isinstance(p, int):\n",
    "            lmax = self.cor[1] * p\n",
    "            lmin = self.cor[0] * p\n",
    "        else:\n",
    "            List = []\n",
    "            for i in p.cor:\n",
    "                for j in self.cor:\n",
    "                    List.append(i*j)\n",
    "                    lmax = max(List)\n",
    "                    lmin = min(List)\n",
    "        return('Interval<%d, %d>' % (lmin, lmax))"
   ]
  },
  {
   "cell_type": "code",
   "execution_count": 9,
   "metadata": {
    "collapsed": false
   },
   "outputs": [
    {
     "data": {
      "text/plain": [
       "['Interval<4, 19>',\n",
       " 'Interval<-13, 78>',\n",
       " 'Interval<9, 16>',\n",
       " 'Interval<-10, 60>',\n",
       " 'Interval<9, 16>',\n",
       " 'Interval<-10, 60>']"
      ]
     },
     "execution_count": 9,
     "metadata": {},
     "output_type": "execute_result"
    }
   ],
   "source": [
    "\n",
    "i = Interval(-1,6)\n",
    "i2 = Interval(5, 13)\n",
    "i3 = Interval(10,10)\n",
    "\n",
    "[i + i2, i * i2, i + 10, i * 10, i + i3, i * i3]"
   ]
  },
  {
   "cell_type": "markdown",
   "metadata": {},
   "source": [
    "# Problem 5 - Polynomials\n",
    "- in class, we discussed two different ways to represent a polynomial\n",
    "    - polylist, a 'dense' represenation, that hold the coefficients in a list\n",
    "    - polydict, a 'sparse' representation, that holds (exponent, coefficent) pairs in a dict\n",
    "- add a method, 'topolydict()' to class 'polylist', that converts the polylist into a polydict\n",
    "- add a method, 'topolylist()' to class 'polydict', that converts the polydict into a polylist\n",
    "- note that polylist->polydict will always work, but polydict->polylist can fail, because a polylist cannot represent negative exponents. in this case, raise a ValueError\n",
    "- just to tell them apart, polylist prints with a leading '+'"
   ]
  },
  {
   "cell_type": "code",
   "execution_count": 286,
   "metadata": {
    "collapsed": false
   },
   "outputs": [
    {
     "data": {
      "text/plain": [
       "+ 3*X**2 + 2*X + 1"
      ]
     },
     "execution_count": 286,
     "metadata": {},
     "output_type": "execute_result"
    }
   ],
   "source": [
    "# prefab polylists\n",
    "import functools\n",
    "\n",
    "class polylist: \n",
    "    ''' list poly representation'''\n",
    "    def __init__(self, coe):\n",
    "        self.coe = coe\n",
    "\n",
    "    def termString(self, c , e):\n",
    "        cs = str(c)\n",
    "        if c > 0:\n",
    "            cs = '+ ' + cs\n",
    "        if (e == 0):\n",
    "            return(cs)\n",
    "        if (e == 1):\n",
    "            return('%s*X' % cs)    \n",
    "        return('%s*X**%d' % (cs,e))\n",
    "        \n",
    "    def __str__(self):\n",
    "        # print math style - hard to do right\n",
    "        terms = [self.termString(c,e) \n",
    "            for e,c in enumerate(self.coe) \n",
    "            if c != 0]\n",
    "        terms.reverse()\n",
    "        s = (' '.join(terms))\n",
    "        # get rid of leading + \n",
    "        return(s)\n",
    "        \n",
    "    def __repr__(self):\n",
    "        return(self.__str__())\n",
    "\n",
    "    def __len__(self):\n",
    "        # number of non zero terms\n",
    "        # 0 len => bool false\n",
    "        return(len(self.coe) - self.coe.count(0))\n",
    "\n",
    "    def __add__(self, p2):\n",
    "        p1len = len(self.coe)\n",
    "        p2len = len(p2.coe)\n",
    "        pad = p2len - p1len\n",
    "        c1 = self.coe\n",
    "        c2 = p2.coe\n",
    "        \n",
    "        if pad < 0:\n",
    "            c1, c2 = c2, c1\n",
    "            pad = -pad\n",
    "    \n",
    "        c1 = c1[:]\n",
    "        \n",
    "        c1.extend([0]*pad)\n",
    "    \n",
    "        return(poly([t1+t2 for t1,t2 in zip(c1,c2)]))\n",
    "    \n",
    "    # don't allow a hash\n",
    "    __hash__ = None    \n",
    "    \n",
    "    def evaluate(self, n):\n",
    "        sum = 0\n",
    "        for e,c in enumerate(self.coe):\n",
    "            sum += c*n**e\n",
    "        return(sum)\n",
    "  \n",
    "    def __mul__(self, p2):\n",
    "        sums = []\n",
    "        for e1,c1 in enumerate(self.coe):\n",
    "            prod = [c1 * c2 for c2 in p2.coe]\n",
    "            for rpt in range(e1):\n",
    "                prod.insert(0, 0)\n",
    "            sums.append(poly(prod))\n",
    "        return(functools.reduce(poly.__add__, sums))\n",
    "pl1 = polylist([1,2,3])\n",
    "pl1"
   ]
  },
  {
   "cell_type": "code",
   "execution_count": 314,
   "metadata": {
    "collapsed": false
   },
   "outputs": [],
   "source": [
    "# prefab polydicts\n",
    "class polydict:\n",
    "    def __init__(self, d={}):\n",
    "        # why the copy??\n",
    "        self.sparse = d.copy()\n",
    "    def printTerm(self, c ,e):\n",
    "        cs = str(c)\n",
    "        if c > 0:\n",
    "            cs = '+ ' + cs\n",
    "        if (e == 0):\n",
    "            return(cs)\n",
    "        if (e == 1):\n",
    "            return('%s*X' % cs)    \n",
    "        return('%s*X**%d' % (cs,e))   \n",
    "        \n",
    "    def __str__(self):\n",
    "        if len(self.sparse) == 0:\n",
    "            return('0')\n",
    "        terms = [self.printTerm(self.sparse[e],e) \n",
    "                for e in sorted(self.sparse.keys(), \n",
    "                                reverse=True) \n",
    "                    if self.sparse[e] != 0]\n",
    "        s = ' '.join(terms)\n",
    "        if '+ ' == s[0:2]:\n",
    "            s = s[2:]\n",
    "        return (s)\n",
    "    \n",
    "    def __repr__(self):\n",
    "        return(self.__str__())\n",
    "\n",
    "    # don't allow a hash\n",
    "    __hash__ = None  \n",
    "    \n",
    "    def __len__(self):\n",
    "        return(len(self.sparse))\n",
    "\n",
    "    # can explicity define bool\n",
    "    def __bool__(self):\n",
    "        return(False if len(self.sparse)==0 else True)\n",
    "        \n",
    "    def __iter__(self):\n",
    "        # return a generator function that will\n",
    "        # iterate thru (exp, coe) pairs\n",
    "        return( (i for i in self.sparse.items() ))\n",
    "\n",
    "    # should check types\n",
    "    def __eq__(self, other):\n",
    "        return(self.sparse == other.sparse)\n",
    "        \n",
    "    def __ne__(self, other):\n",
    "        return(self.sparse != other.sparse)\n",
    "        \n",
    "    # define comparsion to be value of poly at 1\n",
    "    def __lt__(self, other):\n",
    "        return(self.evaluate(1) < other.evaluate(1))\n",
    "        \n",
    "    def __le__(self, other):\n",
    "        return(self.evaluate(1) <= other.evaluate(1))\n",
    "        \n",
    "    # does poly 'contain' an exponent?\n",
    "    def __contains__(self, e):\n",
    "        return(e in self.sparse)\n",
    "\n",
    "                \n",
    "    def evaluate(self, n):\n",
    "        '''eval poly at x=n'''\n",
    "        sum = 0\n",
    "        for e in self.sparse.keys():\n",
    "            sum += self.sparse[e]*n**e\n",
    "        return(sum)\n",
    "            \n",
    "    def __add__(self, p2):\n",
    "        '''add two polys'''\n",
    "        n = self.sparse.copy()\n",
    "        for k,v in p2.sparse.items():\n",
    "            if None == n.get(k):\n",
    "                n[k] = v\n",
    "            else:\n",
    "                n[k] += v\n",
    "        return(polydict(n))\n",
    "        \n",
    "    def __getitem__(self, index):\n",
    "        '''pull out terms of the poly\n",
    "           p[2], p[2:5]\n",
    "           '''\n",
    "        keys = sorted(self.sparse.keys(), reverse=True)\n",
    "        if isinstance(index, int):\n",
    "            # if asked for a single term, p[n], index will\n",
    "            # be an int\n",
    "            inds = [index]\n",
    "        if isinstance(index, slice):\n",
    "            # if asked for a slice, p[n:m], index will be\n",
    "            # a 'slice' object\n",
    "            inds = range(*index.indices(len(keys)))\n",
    "        d = {}\n",
    "        for i in inds:\n",
    "            e = keys[i]\n",
    "            d[e] = self.sparse[e]\n",
    "        return(polydict(d))\n",
    "        \n",
    "    def __rmul__(self, p2):\n",
    "        ''' multiple by a scalar on the right\n",
    "            5*p1\n",
    "            '''\n",
    "        if isinstance(p2, int):\n",
    "            nd = {}\n",
    "        for e,c in self.sparse.items():\n",
    "            nd[e] = c * p2 \n",
    "        return(polydict(nd))\n",
    "        \n",
    "    def differentiate(self):\n",
    "        d = {}\n",
    "        for e,c in self.sparse.items():\n",
    "            if e != 0:\n",
    "                d[e-1] = c * e\n",
    "        return(polydict(d))\n",
    "    \n",
    "    def integrate(self):\n",
    "        d = {}\n",
    "        for e,c in self.sparse.items():\n",
    "            d[e+1] = c /(e+1.)\n",
    "        return(polydict(d))\n",
    "        \n",
    "pd1 = polydict({2:3, 1:2, 0:1})"
   ]
  },
  {
   "cell_type": "code",
   "execution_count": 10,
   "metadata": {
    "collapsed": false
   },
   "outputs": [
    {
     "data": {
      "text/plain": [
       "+ 3*X**2 + 2*X + 1"
      ]
     },
     "execution_count": 10,
     "metadata": {},
     "output_type": "execute_result"
    }
   ],
   "source": [
    "import functools\n",
    "\n",
    "class polylist: \n",
    "    ''' list poly representation'''\n",
    "    def __init__(self, coe):\n",
    "        self.coe = coe\n",
    "\n",
    "    def termString(self, c , e):\n",
    "        cs = str(c)\n",
    "        if c > 0:\n",
    "            cs = '+ ' + cs\n",
    "        if (e == 0):\n",
    "            return(cs)\n",
    "        if (e == 1):\n",
    "            return('%s*X' % cs)    \n",
    "        return('%s*X**%d' % (cs,e))\n",
    "        \n",
    "    def __str__(self):\n",
    "        # print math style - hard to do right\n",
    "        terms = [self.termString(c,e) \n",
    "            for e,c in enumerate(self.coe) \n",
    "            if c != 0]\n",
    "        terms.reverse()\n",
    "        s = (' '.join(terms))\n",
    "        # get rid of leading + \n",
    "        return(s)\n",
    "        \n",
    "    def __repr__(self):\n",
    "        return(self.__str__())\n",
    "\n",
    "    def __len__(self):\n",
    "        # number of non zero terms\n",
    "        # 0 len => bool false\n",
    "        return(len(self.coe) - self.coe.count(0))\n",
    "\n",
    "    def __add__(self, p2):\n",
    "        p1len = len(self.coe)\n",
    "        p2len = len(p2.coe)\n",
    "        pad = p2len - p1len\n",
    "        c1 = self.coe\n",
    "        c2 = p2.coe\n",
    "        \n",
    "        if pad < 0:\n",
    "            c1, c2 = c2, c1\n",
    "            pad = -pad\n",
    "    \n",
    "        c1 = c1[:]\n",
    "        \n",
    "        c1.extend([0]*pad)\n",
    "    \n",
    "        return(poly([t1+t2 for t1,t2 in zip(c1,c2)]))\n",
    "    \n",
    "    # don't allow a hash\n",
    "    __hash__ = None    \n",
    "    \n",
    "    def evaluate(self, n):\n",
    "        sum = 0\n",
    "        for e,c in enumerate(self.coe):\n",
    "            sum += c*n**e\n",
    "        return(sum)\n",
    "  \n",
    "    def __mul__(self, p2):\n",
    "        sums = []\n",
    "        for e1,c1 in enumerate(self.coe):\n",
    "            prod = [c1 * c2 for c2 in p2.coe]\n",
    "            for rpt in range(e1):\n",
    "                prod.insert(0, 0)\n",
    "            sums.append(poly(prod))\n",
    "        return(functools.reduce(poly.__add__, sums))\n",
    "    def topolydict(self):\n",
    "        if len(self.coe) == 0:\n",
    "            return('0')\n",
    "        l = list(range(len(self.coe)))\n",
    "        l.reverse()\n",
    "        terms = [self.termString(self.coe[e],e) \n",
    "                for e in l\n",
    "                    if self.coe[e] != 0]\n",
    "        s = ' '.join(terms)\n",
    "        if '+ ' == s[0:2]:\n",
    "            s = s[2:]\n",
    "        return (s)\n",
    "    \n",
    "pl1 = polylist([1,2,3])\n",
    "pl1\n",
    "    "
   ]
  },
  {
   "cell_type": "code",
   "execution_count": 11,
   "metadata": {
    "collapsed": false
   },
   "outputs": [
    {
     "data": {
      "text/plain": [
       "[+ 3*X**2 + 2*X + 1, '3*X**2 + 2*X + 1', str]"
      ]
     },
     "execution_count": 11,
     "metadata": {},
     "output_type": "execute_result"
    }
   ],
   "source": [
    "[pl1, pl1.topolydict(), type(pl1.topolydict())]"
   ]
  },
  {
   "cell_type": "code",
   "execution_count": 316,
   "metadata": {
    "collapsed": false
   },
   "outputs": [
    {
     "data": {
      "text/plain": [
       "[3*X**2 + 2*X + 1, '+ 2*X**2 + 1*X', str]"
      ]
     },
     "execution_count": 316,
     "metadata": {},
     "output_type": "execute_result"
    }
   ],
   "source": [
    "# prefab polydicts\n",
    "class polydict:\n",
    "    def __init__(self, d={}):\n",
    "        # why the copy??\n",
    "        self.sparse = d.copy()\n",
    "    def printTerm(self, c ,e):\n",
    "        cs = str(c)\n",
    "        if c > 0:\n",
    "            cs = '+ ' + cs\n",
    "        if (e == 0):\n",
    "            return(cs)\n",
    "        if (e == 1):\n",
    "            return('%s*X' % cs)    \n",
    "        return('%s*X**%d' % (cs,e))   \n",
    "        \n",
    "    def __str__(self):\n",
    "        if len(self.sparse) == 0:\n",
    "            return('0')\n",
    "        terms = [self.printTerm(self.sparse[e],e) \n",
    "                for e in sorted(self.sparse.keys(), \n",
    "                                reverse=True) \n",
    "                    if self.sparse[e] != 0]\n",
    "        s = ' '.join(terms)\n",
    "        if '+ ' == s[0:2]:\n",
    "            s = s[2:]\n",
    "        return (s)\n",
    "    \n",
    "    def __repr__(self):\n",
    "        return(self.__str__())\n",
    "\n",
    "    # don't allow a hash\n",
    "    __hash__ = None  \n",
    "    \n",
    "    def __len__(self):\n",
    "        return(len(self.sparse))\n",
    "\n",
    "    # can explicity define bool\n",
    "    def __bool__(self):\n",
    "        return(False if len(self.sparse)==0 else True)\n",
    "        \n",
    "    def __iter__(self):\n",
    "        # return a generator function that will\n",
    "        # iterate thru (exp, coe) pairs\n",
    "        return( (i for i in self.sparse.items() ))\n",
    "\n",
    "    # should check types\n",
    "    def __eq__(self, other):\n",
    "        return(self.sparse == other.sparse)\n",
    "        \n",
    "    def __ne__(self, other):\n",
    "        return(self.sparse != other.sparse)\n",
    "        \n",
    "    # define comparsion to be value of poly at 1\n",
    "    def __lt__(self, other):\n",
    "        return(self.evaluate(1) < other.evaluate(1))\n",
    "        \n",
    "    def __le__(self, other):\n",
    "        return(self.evaluate(1) <= other.evaluate(1))\n",
    "        \n",
    "    # does poly 'contain' an exponent?\n",
    "    def __contains__(self, e):\n",
    "        return(e in self.sparse)\n",
    "\n",
    "                \n",
    "    def evaluate(self, n):\n",
    "        '''eval poly at x=n'''\n",
    "        sum = 0\n",
    "        for e in self.sparse.keys():\n",
    "            sum += self.sparse[e]*n**e\n",
    "        return(sum)\n",
    "            \n",
    "    def __add__(self, p2):\n",
    "        '''add two polys'''\n",
    "        n = self.sparse.copy()\n",
    "        for k,v in p2.sparse.items():\n",
    "            if None == n.get(k):\n",
    "                n[k] = v\n",
    "            else:\n",
    "                n[k] += v\n",
    "        return(polydict(n))\n",
    "        \n",
    "    def __getitem__(self, index):\n",
    "        '''pull out terms of the poly\n",
    "           p[2], p[2:5]\n",
    "           '''\n",
    "        keys = sorted(self.sparse.keys(), reverse=True)\n",
    "        if isinstance(index, int):\n",
    "            # if asked for a single term, p[n], index will\n",
    "            # be an int\n",
    "            inds = [index]\n",
    "        if isinstance(index, slice):\n",
    "            # if asked for a slice, p[n:m], index will be\n",
    "            # a 'slice' object\n",
    "            inds = range(*index.indices(len(keys)))\n",
    "        d = {}\n",
    "        for i in inds:\n",
    "            e = keys[i]\n",
    "            d[e] = self.sparse[e]\n",
    "        return(polydict(d))\n",
    "        \n",
    "    def __rmul__(self, p2):\n",
    "        ''' multiple by a scalar on the right\n",
    "            5*p1\n",
    "            '''\n",
    "        if isinstance(p2, int):\n",
    "            nd = {}\n",
    "        for e,c in self.sparse.items():\n",
    "            nd[e] = c * p2 \n",
    "        return(polydict(nd))\n",
    "        \n",
    "    def differentiate(self):\n",
    "        d = {}\n",
    "        for e,c in self.sparse.items():\n",
    "            if e != 0:\n",
    "                d[e-1] = c * e\n",
    "        return(polydict(d))\n",
    "    \n",
    "    def integrate(self):\n",
    "        d = {}\n",
    "        for e,c in self.sparse.items():\n",
    "            d[e+1] = c /(e+1.)\n",
    "        return(polydict(d))\n",
    "    def topolylist(self):\n",
    "         # print math style - hard to do right\n",
    "        terms = [self.printTerm(c,e) \n",
    "            for e,c in enumerate(self.sparse) \n",
    "            if c != 0]\n",
    "        terms.reverse()\n",
    "        s = (' '.join(terms))\n",
    "        # get rid of leading + \n",
    "        return(s)\n",
    "        \n",
    "pd1 = polydict({2:3, 1:2, 0:1})\n",
    "\n",
    "[pd1, pd1.topolylist(), type(pd1.topolylist())]"
   ]
  },
  {
   "cell_type": "markdown",
   "metadata": {
    "collapsed": false
   },
   "source": [
    "pdn = polydict({-2:3})\n",
    "\n",
    "pdn.topolylist() would throw: ValueError: Negative exponent: -2"
   ]
  },
  {
   "cell_type": "code",
   "execution_count": null,
   "metadata": {
    "collapsed": true
   },
   "outputs": [],
   "source": []
  }
 ],
 "metadata": {
  "kernelspec": {
   "display_name": "Python 3",
   "language": "python",
   "name": "python3"
  },
  "language_info": {
   "codemirror_mode": {
    "name": "ipython",
    "version": 3
   },
   "file_extension": ".py",
   "mimetype": "text/x-python",
   "name": "python",
   "nbconvert_exporter": "python",
   "pygments_lexer": "ipython3",
   "version": "3.4.3"
  }
 },
 "nbformat": 4,
 "nbformat_minor": 0
}
