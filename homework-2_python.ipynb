{
 "cells": [
  {
   "cell_type": "markdown",
   "metadata": {},
   "source": [
    "# Introduction to Python\n",
    "# Homework #2\n",
    "# Due Friday, Sept 25, 1:45pm in Courseworks"
   ]
  },
  {
   "cell_type": "markdown",
   "metadata": {},
   "source": [
    "# Academic Honesty\n",
    "* The computer science department has strict polices. Check\n",
    "the department [web page](http://www.cs.columbia.edu/education/honesty) for details. \n",
    "- Do not look at anybody else's source code. Do not show anybody\n",
    "your source, or leave your source where somebody could see it.\n",
    "You MUST write your own code.\n",
    "- For this class, feel free to discuss issues with other people, but suggest waiting an hour or two after a discussion, before writing your code.\n",
    "-  Cases of non original source will be refered to the Judical Committee.\n",
    "\n"
   ]
  },
  {
   "cell_type": "markdown",
   "metadata": {},
   "source": [
    "## Tips"
   ]
  },
  {
   "cell_type": "markdown",
   "metadata": {},
   "source": [
    "### Generators"
   ]
  },
  {
   "cell_type": "code",
   "execution_count": 139,
   "metadata": {
    "collapsed": false
   },
   "outputs": [
    {
     "name": "stdout",
     "output_type": "stream",
     "text": [
      "[1, 2]\n",
      "[1, 2]\n"
     ]
    }
   ],
   "source": [
    "# you can terminate a generator by using 'return',\n",
    "# or falling off the end of the generator\n",
    "def g1():\n",
    "    yield(1)\n",
    "    yield(2)\n",
    "    return\n",
    "    yield(3)\n",
    "\n",
    "def g2():\n",
    "    yield(1)\n",
    "    yield(2)\n",
    "\n",
    "# an easy way to get the elements from a \n",
    "# FINITE length generator will return is to use 'list'\n",
    "print(list(g1()))\n",
    "print(list(g2()))       "
   ]
  },
  {
   "cell_type": "code",
   "execution_count": 140,
   "metadata": {
    "collapsed": false
   },
   "outputs": [
    {
     "name": "stdout",
     "output_type": "stream",
     "text": [
      "1\n",
      "2\n"
     ]
    }
   ],
   "source": [
    "# if a generator calls a 2nd generator for elements, \n",
    "# and the 2nd generator finishes, the 1st one will finish as well\n",
    "def g3(g):\n",
    "    while True:\n",
    "        yield(next(g))\n",
    "\n",
    "for i in g3(g2()):\n",
    "    print(i)"
   ]
  },
  {
   "cell_type": "markdown",
   "metadata": {},
   "source": [
    "### String"
   ]
  },
  {
   "cell_type": "code",
   "execution_count": 40,
   "metadata": {
    "collapsed": false
   },
   "outputs": [
    {
     "data": {
      "text/plain": [
       "['foo', 'bar', 'zip', 'zap']"
      ]
     },
     "execution_count": 40,
     "metadata": {},
     "output_type": "execute_result"
    }
   ],
   "source": [
    "# split will \"tokenize\", and get rid of white space\n",
    "\n",
    "' foo     bar zip         zap  '.split()"
   ]
  },
  {
   "cell_type": "code",
   "execution_count": 51,
   "metadata": {
    "collapsed": false
   },
   "outputs": [
    {
     "data": {
      "text/plain": [
       "'dont want the commas'"
      ]
     },
     "execution_count": 51,
     "metadata": {},
     "output_type": "execute_result"
    }
   ],
   "source": [
    "# replace can remove unwanted chars\n",
    "'dont, want, the, commas,'.replace(',','')"
   ]
  },
  {
   "cell_type": "code",
   "execution_count": 65,
   "metadata": {
    "collapsed": false
   },
   "outputs": [
    {
     "data": {
      "text/plain": [
       "[2343, 2.34]"
      ]
     },
     "execution_count": 65,
     "metadata": {},
     "output_type": "execute_result"
    }
   ],
   "source": [
    "# convert strings to numbers\n",
    "\n",
    "[int('2343'), float('2.34')]"
   ]
  },
  {
   "cell_type": "markdown",
   "metadata": {},
   "source": [
    "### Arithmetic"
   ]
  },
  {
   "cell_type": "code",
   "execution_count": 1,
   "metadata": {
    "collapsed": false
   },
   "outputs": [
    {
     "data": {
      "text/plain": [
       "[2, 4, 2.8]"
      ]
     },
     "execution_count": 1,
     "metadata": {},
     "output_type": "execute_result"
    }
   ],
   "source": [
    "# integer quotient, integer remainder, floating divide\n",
    "[14//5, 14 % 5, 14 / 5]"
   ]
  },
  {
   "cell_type": "code",
   "execution_count": 149,
   "metadata": {
    "collapsed": false
   },
   "outputs": [
    {
     "data": {
      "text/plain": [
       "['0b1011', '0b11101010']"
      ]
     },
     "execution_count": 149,
     "metadata": {},
     "output_type": "execute_result"
    }
   ],
   "source": [
    "# 'bin' function converts an int into a binary string\n",
    "[bin(11), bin(234)]"
   ]
  },
  {
   "cell_type": "code",
   "execution_count": 24,
   "metadata": {
    "collapsed": false
   },
   "outputs": [
    {
     "data": {
      "text/plain": [
       "[True, False]"
      ]
     },
     "execution_count": 24,
     "metadata": {},
     "output_type": "execute_result"
    }
   ],
   "source": [
    "# 1 and 0 function as True and False in an 'if' statement\n",
    "[True if 1 else False, True if 0 else False]"
   ]
  },
  {
   "cell_type": "markdown",
   "metadata": {},
   "source": [
    "# Problem 1a - decimals\n",
    "- define a 'decimals' generator function, that 'generates' the decimal digits of 1/n, where n is an integer greater than 1\n",
    "- if the decimal expansion terminates, like 1/8 = .125, the generator should terminate. otherwise, like for 1/3=.333..., the generator should never stop\n",
    "- use long division to compute the expansion - it is very simple"
   ]
  },
  {
   "cell_type": "code",
   "execution_count": 5,
   "metadata": {
    "collapsed": false
   },
   "outputs": [],
   "source": [
    "def decimals(n):\n",
    "    result = 1 / n\n",
    "    show = str(result)[2:]\n",
    "    for i in show:\n",
    "        yield(int(i))"
   ]
  },
  {
   "cell_type": "code",
   "execution_count": 6,
   "metadata": {
    "collapsed": false
   },
   "outputs": [
    {
     "data": {
      "text/plain": [
       "[1, 2, 5]"
      ]
     },
     "execution_count": 6,
     "metadata": {},
     "output_type": "execute_result"
    }
   ],
   "source": [
    "list(decimals(8))"
   ]
  },
  {
   "cell_type": "code",
   "execution_count": 7,
   "metadata": {
    "collapsed": false
   },
   "outputs": [
    {
     "data": {
      "text/plain": [
       "[3, 3, 3, 3, 3, 3, 3, 3, 3, 3]"
      ]
     },
     "execution_count": 7,
     "metadata": {},
     "output_type": "execute_result"
    }
   ],
   "source": [
    "d = decimals(3)\n",
    "[next(d) for x in range(10)]"
   ]
  },
  {
   "cell_type": "markdown",
   "metadata": {},
   "source": [
    "# Problem 1b - genlimit\n",
    "- define 'genlimit(g, limit)', which generates at most 'limit' number of values from a generator 'g'"
   ]
  },
  {
   "cell_type": "code",
   "execution_count": 51,
   "metadata": {
    "collapsed": false
   },
   "outputs": [],
   "source": [
    "def genlimit(g, limit):\n",
    "    for i in range(limit):\n",
    "        yield(next(g))"
   ]
  },
  {
   "cell_type": "code",
   "execution_count": 52,
   "metadata": {
    "collapsed": false
   },
   "outputs": [
    {
     "name": "stdout",
     "output_type": "stream",
     "text": [
      "[3, 3, 3, 3, 3]\n",
      "[1, 2, 5]\n"
     ]
    }
   ],
   "source": [
    "print(list(genlimit(decimals(3), 5)))\n",
    "print(list(genlimit(decimals(8), 5)))"
   ]
  },
  {
   "cell_type": "markdown",
   "metadata": {},
   "source": [
    "# Problem 2 - Deal With Repeated Decimals\n",
    "- genlimit is useful, but never sure what we're missing with an arbitrary limit\n",
    "- since 1/n is a rational number, its decimal expansion must eventually repeat(unlike irrational numbers like PI)\n",
    "- write 'decimals2', a variant of 'decimals' \n",
    "- if the decimal expansion is finite, it should just return the finite set of digits\n",
    "- if the decimal expansion repeats, it should return the digits up to the point it starts repeating. then the final yield should be the repeating sequence of digits\n"
   ]
  },
  {
   "cell_type": "code",
   "execution_count": 74,
   "metadata": {
    "collapsed": false,
    "scrolled": true
   },
   "outputs": [
    {
     "name": "stdout",
     "output_type": "stream",
     "text": [
      "   Expansion of 1/2:\n",
      "[5]\n",
      "   Expansion of 1/3:\n",
      "[3, [3]]\n",
      "   Expansion of 1/4:\n",
      "[2, 5]\n",
      "   Expansion of 1/5:\n",
      "[2]\n",
      "   Expansion of 1/6:\n",
      "[1, 6, [6]]\n",
      "   Expansion of 1/7:\n",
      "[1, 4, 2, 8, 5, 7, [1, 4, 2, 8, 5, 7]]\n",
      "   Expansion of 1/8:\n",
      "[1, 2, 5]\n",
      "   Expansion of 1/9:\n",
      "[1, [1]]\n",
      "   Expansion of 1/10:\n",
      "[1]\n",
      "   Expansion of 1/11:\n",
      "[0, 9, [0, 9]]\n",
      "   Expansion of 1/12:\n",
      "[0, 8, 3, [3]]\n",
      "   Expansion of 1/13:\n",
      "[0, 7, 6, 9, 2, 3, [0, 7, 6, 9, 2, 3]]\n",
      "   Expansion of 1/14:\n",
      "[0, 7, 1, 4, 2, 8, 5, [7, 1, 4, 2, 8, 5]]\n",
      "   Expansion of 1/15:\n",
      "[0, 6, [6]]\n",
      "   Expansion of 1/16:\n",
      "[0, 6, 2, 5]\n",
      "   Expansion of 1/17:\n",
      "[0, 5, 8, 8, 2, 3, 5, 2, 9, 4, 1, 1, 7, 6, 4, 7, [0, 5, 8, 8, 2, 3, 5, 2, 9, 4,\n",
      "1, 1, 7, 6, 4, 7]]\n",
      "   Expansion of 1/18:\n",
      "[0, 5, [5]]\n",
      "   Expansion of 1/19:\n",
      "[0, 5, 2, 6, 3, 1, 5, 7, 8, 9, 4, 7, 3, 6, 8, 4, 2, 1, [0, 5, 2, 6, 3, 1, 5, 7,\n",
      "8, 9, 4, 7, 3, 6, 8, 4, 2, 1]]\n",
      "   Expansion of 1/20:\n",
      "[0, 5]\n",
      "   Expansion of 1/21:\n",
      "[0, 4, 7, 6, 1, 9, [0, 4, 7, 6, 1, 9]]\n",
      "   Expansion of 1/22:\n",
      "[0, 4, 5, [4, 5]]\n",
      "   Expansion of 1/23:\n",
      "[0, 4, 3, 4, 7, 8, 2, 6, 0, 8, 6, 9, 5, 6, 5, 2, 1, 7, 3, 9, 1, 3, [0, 4, 3, 4,\n",
      "7, 8, 2, 6, 0, 8, 6, 9, 5, 6, 5, 2, 1, 7, 3, 9, 1, 3]]\n",
      "   Expansion of 1/24:\n",
      "[0, 4, 1, 6, [6]]\n",
      "   Expansion of 1/25:\n",
      "[0, 4]\n",
      "   Expansion of 1/26:\n",
      "[0, 3, 8, 4, 6, 1, 5, [3, 8, 4, 6, 1, 5]]\n",
      "   Expansion of 1/27:\n",
      "[0, 3, 7, [0, 3, 7]]\n",
      "   Expansion of 1/28:\n",
      "[0, 3, 5, 7, 1, 4, 2, 8, [5, 7, 1, 4, 2, 8]]\n",
      "   Expansion of 1/29:\n",
      "[0, 3, 4, 4, 8, 2, 7, 5, 8, 6, 2, 0, 6, 8, 9, 6, 5, 5, 1, 7, 2, 4, 1, 3, 7, 9,\n",
      "3, 1, [0, 3, 4, 4, 8, 2, 7, 5, 8, 6, 2, 0, 6, 8, 9, 6, 5, 5, 1, 7, 2, 4, 1, 3,\n",
      "7, 9, 3, 1]]\n"
     ]
    }
   ],
   "source": [
    "import textwrap\n",
    "def decimals2(n):\n",
    "    llist = []\n",
    "    ilist = []\n",
    "    l2list = []\n",
    "    i2list = []\n",
    "    count = 1\n",
    "    l = 10 // n\n",
    "    i = 10 % n\n",
    "    while (i not in ilist or (l not in llist and i !=0)):\n",
    "        llist.append(l)\n",
    "        ilist.append(i)\n",
    "        l = i * 10 // n\n",
    "        i = i * 10 % n\n",
    "    while (i not in i2list and i):\n",
    "        l2list.append(l)\n",
    "        i2list.append(i)\n",
    "        l = i * 10 // n\n",
    "        i = i * 10 % n\n",
    "    if l2list:\n",
    "        llist.append(l2list)\n",
    "    return(llist)\n",
    "        \n",
    "    \n",
    "\n",
    "for j in range(2, 30): \n",
    "    # ugly hack needed because lines don't wrap in pdf version\n",
    "    d = list(decimals2(j))\n",
    "    print('   Expansion of 1/' + str(j) + ':')\n",
    "    print( textwrap.fill(str(d), 80))\n"
   ]
  },
  {
   "cell_type": "markdown",
   "metadata": {},
   "source": [
    "# Problem 3a - select\n",
    "- define a function 'select(l, selectors)', where 'l' and 'selectors' lists of the same length\n",
    "- 'select' returns new list which consists of the elements of l that have a True value in the corresponding selectors element"
   ]
  },
  {
   "cell_type": "code",
   "execution_count": 59,
   "metadata": {
    "collapsed": true
   },
   "outputs": [],
   "source": [
    "def select(l, selector):\n",
    "    newlist = []\n",
    "    for i in range(len(l)):\n",
    "        if selector[i]:\n",
    "            newlist.append(l[i])\n",
    "    return(newlist)"
   ]
  },
  {
   "cell_type": "code",
   "execution_count": 60,
   "metadata": {
    "collapsed": false
   },
   "outputs": [
    {
     "data": {
      "text/plain": [
       "[1, 3, 4]"
      ]
     },
     "execution_count": 60,
     "metadata": {},
     "output_type": "execute_result"
    }
   ],
   "source": [
    "select(range(5), [0, 1, '', \"foo\", True])"
   ]
  },
  {
   "cell_type": "markdown",
   "metadata": {},
   "source": [
    "# Problem 3b - nbitIntToDigits\n",
    "- define a function 'nbitIntToDigits(i, n)'\n",
    "- returns a list of the digits(ints, not strings) in a binary representation of 'i'\n",
    "- pad with '0's on the left if needed to generate n bits"
   ]
  },
  {
   "cell_type": "code",
   "execution_count": 61,
   "metadata": {
    "collapsed": true
   },
   "outputs": [],
   "source": [
    "def nbitIntToDigits(i,n):\n",
    "    List = []\n",
    "    temp = bin(i)\n",
    "    length = len(temp)-2\n",
    "    if length < n:\n",
    "        List = [0] * (n-length)\n",
    "    for k in temp[2:]:\n",
    "        List.append(int(k))\n",
    "    return(List)"
   ]
  },
  {
   "cell_type": "code",
   "execution_count": 62,
   "metadata": {
    "collapsed": false
   },
   "outputs": [
    {
     "data": {
      "text/plain": [
       "[[1, 1], [0, 0, 0, 0, 1, 1], [1, 0, 1, 1]]"
      ]
     },
     "execution_count": 62,
     "metadata": {},
     "output_type": "execute_result"
    }
   ],
   "source": [
    "[nbitIntToDigits(3, 2), nbitIntToDigits(3, 6), nbitIntToDigits(11, 4)]"
   ]
  },
  {
   "cell_type": "markdown",
   "metadata": {},
   "source": [
    "# Problem 3c - powerSet\n",
    "- define a function 'powerSets(l)' that returns all possible subsets of \n",
    "the elements of l, including the empty list and the original list\n",
    "- for a list of length n, how many elements are in the powerSet list?\n"
   ]
  },
  {
   "cell_type": "code",
   "execution_count": 39,
   "metadata": {
    "collapsed": false
   },
   "outputs": [],
   "source": [
    "import itertools\n",
    "def powerSet(l):\n",
    "    List = []\n",
    "    for i in range(len(l)+1):\n",
    "        ll = itertools.combinations(l, i)\n",
    "        for ii in ll:\n",
    "            List.append(list(ii))\n",
    "    return(List)"
   ]
  },
  {
   "cell_type": "code",
   "execution_count": 40,
   "metadata": {
    "collapsed": false
   },
   "outputs": [
    {
     "data": {
      "text/plain": [
       "[[],\n",
       " ['avery'],\n",
       " ['math'],\n",
       " ['butler'],\n",
       " ['avery', 'math'],\n",
       " ['avery', 'butler'],\n",
       " ['math', 'butler'],\n",
       " ['avery', 'math', 'butler']]"
      ]
     },
     "execution_count": 40,
     "metadata": {},
     "output_type": "execute_result"
    }
   ],
   "source": [
    "powerSet(['avery', 'math', 'butler'])"
   ]
  },
  {
   "cell_type": "code",
   "execution_count": 41,
   "metadata": {
    "collapsed": false
   },
   "outputs": [
    {
     "data": {
      "text/plain": [
       "[[],\n",
       " ['avery'],\n",
       " ['math'],\n",
       " ['butler'],\n",
       " ['dodge'],\n",
       " ['avery', 'math'],\n",
       " ['avery', 'butler'],\n",
       " ['avery', 'dodge'],\n",
       " ['math', 'butler'],\n",
       " ['math', 'dodge'],\n",
       " ['butler', 'dodge'],\n",
       " ['avery', 'math', 'butler'],\n",
       " ['avery', 'math', 'dodge'],\n",
       " ['avery', 'butler', 'dodge'],\n",
       " ['math', 'butler', 'dodge'],\n",
       " ['avery', 'math', 'butler', 'dodge']]"
      ]
     },
     "execution_count": 41,
     "metadata": {},
     "output_type": "execute_result"
    }
   ],
   "source": [
    "powerSet(['avery', 'math', 'butler', 'dodge'])"
   ]
  },
  {
   "cell_type": "markdown",
   "metadata": {},
   "source": [
    "# Problem 4 - Decrypting Government Data\n",
    "- Your job is to summarize this gov data about oil consumation\n",
    "- The format of the file rather bizzare - note that each line has data\n",
    "for two months, in two different years! (Plus I had to edit the file to make it parseable)\n",
    "- Fortunately, Python is great for untangling and manipulating data.\n",
    "- Write a generator that produces a summary line for a year's data on each 'next' call\n",
    "- The generator should read the lines of the oil file in a lazy fashion - it\n",
    "should only read 13 lines for every two years of output. Note a loop can have\n",
    "any number of 'yield' calls in it.\n",
    "- Your generator probably wants to throw away the first 7 lines when it starts.\n",
    "- The summary line produced should include the total consumption over the year(sum up\n",
    "the per month consumption), and the min, max, and avg price for the year.\n",
    "- In addition to the 'oil' generator function, my solution had a separate helper function, 'report' \n",
    "to make the summary string:\n",
    "\n",
    "\n",
    "- def report(years, data, leftside):\n",
    "    - years is the two years the 13 lines cover, like ['2014', '2013']\n",
    "    - data is the 13 lines covering two years\n",
    "    - leftside is True if i'm extracting the 'left' half of the data,\n",
    "false if extracting from the right. \n",
    "\n",
    "- Download the 'oil.txt' file from Courseworks/week2"
   ]
  },
  {
   "cell_type": "code",
   "execution_count": 33,
   "metadata": {
    "collapsed": false
   },
   "outputs": [],
   "source": [
    "def oil(path):\n",
    "    with open(path) as f:\n",
    "        years = []\n",
    "        for _ in range(7):\n",
    "            next(f)\n",
    "        lines = f.readlines()\n",
    "        for i in range(0, len(lines), 14):\n",
    "            flag = lines[i].split()\n",
    "            years += flag\n",
    "        count = 0 \n",
    "        while count < (len(years)):\n",
    "            List = []\n",
    "            Left = []\n",
    "            Total = []\n",
    "            if count % 2 == 0:\n",
    "                temp = lines[1].split()\n",
    "                total = int(temp[1].replace(',',''))\n",
    "                for line in range(2,14):\n",
    "                    ll = lines[line].split()\n",
    "                    left = ll[5]\n",
    "                    List.append(left)\n",
    "                List = list(map(float, List))\n",
    "                Max = max(List)\n",
    "                Min = min(List)\n",
    "                Ave = sum(List)/len(List)\n",
    "                Text = \"%s: quan: total=%d prices: max = %f min = %f avg = %f\" %(years[count], total, Max, Min, Ave)\n",
    "                count += 1\n",
    "            elif count % 2 == 1:\n",
    "                temp = lines[1].split()\n",
    "                total = int(temp[8].replace(',',''))\n",
    "                for line in range(2,14):\n",
    "                    ll = lines[line].split()\n",
    "                    right = ll[12]\n",
    "                    List.append(right)\n",
    "                List = list(map(float, List))\n",
    "                Max = max(List)\n",
    "                Min = min(List)\n",
    "                Ave = sum(List)/len(List)\n",
    "                Text = \"%s: quan: total=%d prices: max = %f min = %f avg = %f\" %(years[count], total, Max, Min, Ave)\n",
    "                count += 1\n",
    "                lines = lines[14:]\n",
    "            yield(Text)"
   ]
  },
  {
   "cell_type": "code",
   "execution_count": 34,
   "metadata": {
    "collapsed": false
   },
   "outputs": [],
   "source": [
    "# change this path to where you put 'oil.txt' on your machine\n",
    "path = '/Users/XW/Desktop/python/oil.txt'\n",
    "o = oil(path)"
   ]
  },
  {
   "cell_type": "code",
   "execution_count": 35,
   "metadata": {
    "collapsed": false
   },
   "outputs": [
    {
     "data": {
      "text/plain": [
       "'2014: quan: total=2700903 prices: max = 97.810000 min = 73.640000 avg = 91.282500'"
      ]
     },
     "execution_count": 35,
     "metadata": {},
     "output_type": "execute_result"
    }
   ],
   "source": [
    "next(o)"
   ]
  },
  {
   "cell_type": "code",
   "execution_count": 36,
   "metadata": {
    "collapsed": false
   },
   "outputs": [
    {
     "data": {
      "text/plain": [
       "'2013: quan: total=2813770 prices: max = 102.000000 min = 91.330000 avg = 96.937500'"
      ]
     },
     "execution_count": 36,
     "metadata": {},
     "output_type": "execute_result"
    }
   ],
   "source": [
    "next(o)"
   ]
  },
  {
   "cell_type": "code",
   "execution_count": 38,
   "metadata": {
    "collapsed": false
   },
   "outputs": [
    {
     "data": {
      "text/plain": [
       "'2011: quan: total=3321917 prices: max = 108.740000 min = 84.500000 avg = 99.730833'"
      ]
     },
     "execution_count": 38,
     "metadata": {},
     "output_type": "execute_result"
    }
   ],
   "source": [
    "next(o)"
   ]
  },
  {
   "cell_type": "code",
   "execution_count": 40,
   "metadata": {
    "collapsed": false
   },
   "outputs": [
    {
     "data": {
      "text/plain": [
       "[]"
      ]
     },
     "execution_count": 40,
     "metadata": {},
     "output_type": "execute_result"
    }
   ],
   "source": [
    "list(o)"
   ]
  },
  {
   "cell_type": "code",
   "execution_count": 39,
   "metadata": {
    "collapsed": false
   },
   "outputs": [
    {
     "ename": "ValueError",
     "evalue": "invalid literal for int() with base 10: 'Dec.'",
     "output_type": "error",
     "traceback": [
      "\u001b[0;31m---------------------------------------------------------------------------\u001b[0m",
      "\u001b[0;31mValueError\u001b[0m                                Traceback (most recent call last)",
      "\u001b[0;32m<ipython-input-39-c99254c97eaf>\u001b[0m in \u001b[0;36m<module>\u001b[0;34m()\u001b[0m\n\u001b[0;32m----> 1\u001b[0;31m \u001b[0;32mfor\u001b[0m \u001b[0ms\u001b[0m \u001b[0;32min\u001b[0m \u001b[0mlist\u001b[0m\u001b[0;34m(\u001b[0m\u001b[0mo\u001b[0m\u001b[0;34m)\u001b[0m\u001b[0;34m:\u001b[0m\u001b[0;34m\u001b[0m\u001b[0m\n\u001b[0m\u001b[1;32m      2\u001b[0m     \u001b[0mprint\u001b[0m\u001b[0;34m(\u001b[0m\u001b[0ms\u001b[0m\u001b[0;34m)\u001b[0m\u001b[0;34m\u001b[0m\u001b[0m\n",
      "\u001b[0;32m<ipython-input-33-203cb1e52408>\u001b[0m in \u001b[0;36moil\u001b[0;34m(path)\u001b[0m\n\u001b[1;32m     15\u001b[0m             \u001b[0;32mif\u001b[0m \u001b[0mcount\u001b[0m \u001b[0;34m%\u001b[0m \u001b[0;36m2\u001b[0m \u001b[0;34m==\u001b[0m \u001b[0;36m0\u001b[0m\u001b[0;34m:\u001b[0m\u001b[0;34m\u001b[0m\u001b[0m\n\u001b[1;32m     16\u001b[0m                 \u001b[0mtemp\u001b[0m \u001b[0;34m=\u001b[0m \u001b[0mlines\u001b[0m\u001b[0;34m[\u001b[0m\u001b[0;36m1\u001b[0m\u001b[0;34m]\u001b[0m\u001b[0;34m.\u001b[0m\u001b[0msplit\u001b[0m\u001b[0;34m(\u001b[0m\u001b[0;34m)\u001b[0m\u001b[0;34m\u001b[0m\u001b[0m\n\u001b[0;32m---> 17\u001b[0;31m                 \u001b[0mtotal\u001b[0m \u001b[0;34m=\u001b[0m \u001b[0mint\u001b[0m\u001b[0;34m(\u001b[0m\u001b[0mtemp\u001b[0m\u001b[0;34m[\u001b[0m\u001b[0;36m1\u001b[0m\u001b[0;34m]\u001b[0m\u001b[0;34m.\u001b[0m\u001b[0mreplace\u001b[0m\u001b[0;34m(\u001b[0m\u001b[0;34m','\u001b[0m\u001b[0;34m,\u001b[0m\u001b[0;34m''\u001b[0m\u001b[0;34m)\u001b[0m\u001b[0;34m)\u001b[0m\u001b[0;34m\u001b[0m\u001b[0m\n\u001b[0m\u001b[1;32m     18\u001b[0m                 \u001b[0;32mfor\u001b[0m \u001b[0mline\u001b[0m \u001b[0;32min\u001b[0m \u001b[0mrange\u001b[0m\u001b[0;34m(\u001b[0m\u001b[0;36m2\u001b[0m\u001b[0;34m,\u001b[0m\u001b[0;36m14\u001b[0m\u001b[0;34m)\u001b[0m\u001b[0;34m:\u001b[0m\u001b[0;34m\u001b[0m\u001b[0m\n\u001b[1;32m     19\u001b[0m                     \u001b[0mll\u001b[0m \u001b[0;34m=\u001b[0m \u001b[0mlines\u001b[0m\u001b[0;34m[\u001b[0m\u001b[0mline\u001b[0m\u001b[0;34m]\u001b[0m\u001b[0;34m.\u001b[0m\u001b[0msplit\u001b[0m\u001b[0;34m(\u001b[0m\u001b[0;34m)\u001b[0m\u001b[0;34m\u001b[0m\u001b[0m\n",
      "\u001b[0;31mValueError\u001b[0m: invalid literal for int() with base 10: 'Dec.'"
     ]
    }
   ],
   "source": [
    "for s in list(o):\n",
    "    print(s)"
   ]
  },
  {
   "cell_type": "markdown",
   "metadata": {},
   "source": [
    "# Problem 5a - countBases\n",
    "- define 'countBases(dna)' - returns the number of 'A', 'C', 'G', 'T' in a DNA strand"
   ]
  },
  {
   "cell_type": "code",
   "execution_count": 49,
   "metadata": {
    "collapsed": true
   },
   "outputs": [],
   "source": [
    "import re\n",
    "def countBases(dna):\n",
    "    bases = 'ACGT'\n",
    "    List = []\n",
    "    for i in bases:\n",
    "        rec=re.compile(i)\n",
    "        l = rec.findall(dna)\n",
    "        List.append(len(l))\n",
    "    return(List)"
   ]
  },
  {
   "cell_type": "code",
   "execution_count": 50,
   "metadata": {
    "collapsed": true
   },
   "outputs": [],
   "source": [
    "bases = 'ACGT'\n",
    "dna = 'CATCGATATCTCTGAGTGCAC'"
   ]
  },
  {
   "cell_type": "code",
   "execution_count": 51,
   "metadata": {
    "collapsed": false
   },
   "outputs": [
    {
     "data": {
      "text/plain": [
       "[1, 1, 0, 0]"
      ]
     },
     "execution_count": 51,
     "metadata": {},
     "output_type": "execute_result"
    }
   ],
   "source": [
    "countBases('AC')"
   ]
  },
  {
   "cell_type": "code",
   "execution_count": 52,
   "metadata": {
    "collapsed": false
   },
   "outputs": [
    {
     "data": {
      "text/plain": [
       "[5, 6, 4, 6]"
      ]
     },
     "execution_count": 52,
     "metadata": {},
     "output_type": "execute_result"
    }
   ],
   "source": [
    "countBases(dna)"
   ]
  },
  {
   "cell_type": "markdown",
   "metadata": {},
   "source": [
    "# Problem 5b - reverseComplement\n",
    "- define 'reverseComplement(dna)' \n",
    "- swaps A <-> T, C <-> G, and returns the new DNA in reverse order"
   ]
  },
  {
   "cell_type": "code",
   "execution_count": 67,
   "metadata": {
    "collapsed": false
   },
   "outputs": [],
   "source": [
    "def reverseComplement(dna):\n",
    "    List = ''\n",
    "    for i in dna:\n",
    "        if i == 'A':\n",
    "            i = 'T'\n",
    "        elif i == 'T':\n",
    "            i = 'A'\n",
    "        elif i == 'C':\n",
    "            i = 'G'\n",
    "        elif i == 'G':\n",
    "            i = 'C'\n",
    "        List += i\n",
    "    l = List[::-1]\n",
    "    return(l)"
   ]
  },
  {
   "cell_type": "code",
   "execution_count": 68,
   "metadata": {
    "collapsed": false
   },
   "outputs": [
    {
     "data": {
      "text/plain": [
       "'ACGT'"
      ]
     },
     "execution_count": 68,
     "metadata": {},
     "output_type": "execute_result"
    }
   ],
   "source": [
    "reverseComplement('ACGT')"
   ]
  },
  {
   "cell_type": "code",
   "execution_count": 69,
   "metadata": {
    "collapsed": false
   },
   "outputs": [
    {
     "data": {
      "text/plain": [
       "'GTGCACTCAGAGATATCGATG'"
      ]
     },
     "execution_count": 69,
     "metadata": {},
     "output_type": "execute_result"
    }
   ],
   "source": [
    "reverseComplement(dna)"
   ]
  }
 ],
 "metadata": {
  "kernelspec": {
   "display_name": "Python 3",
   "language": "python",
   "name": "python3"
  },
  "language_info": {
   "codemirror_mode": {
    "name": "ipython",
    "version": 3
   },
   "file_extension": ".py",
   "mimetype": "text/x-python",
   "name": "python",
   "nbconvert_exporter": "python",
   "pygments_lexer": "ipython3",
   "version": "3.4.3"
  }
 },
 "nbformat": 4,
 "nbformat_minor": 0
}
